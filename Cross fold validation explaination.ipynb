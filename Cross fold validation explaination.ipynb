{
 "cells": [
  {
   "cell_type": "code",
   "execution_count": 24,
   "metadata": {},
   "outputs": [],
   "source": [
    "import pandas as pd\n",
    "import numpy as np\n",
    "import matplotlib.pyplot as plt\n",
    "import warnings\n",
    "warnings.filterwarnings(action = \"ignore\")"
   ]
  },
  {
   "cell_type": "code",
   "execution_count": 25,
   "metadata": {},
   "outputs": [],
   "source": [
    "from sklearn import datasets"
   ]
  },
  {
   "cell_type": "code",
   "execution_count": 26,
   "metadata": {},
   "outputs": [],
   "source": [
    "df = datasets.load_wine()"
   ]
  },
  {
   "cell_type": "code",
   "execution_count": 27,
   "metadata": {},
   "outputs": [
    {
     "data": {
      "text/plain": [
       "dict_keys(['data', 'target', 'target_names', 'DESCR', 'feature_names'])"
      ]
     },
     "execution_count": 27,
     "metadata": {},
     "output_type": "execute_result"
    }
   ],
   "source": [
    "df.keys()"
   ]
  },
  {
   "cell_type": "code",
   "execution_count": 28,
   "metadata": {},
   "outputs": [],
   "source": [
    "data = pd.DataFrame(df.data, columns=df.feature_names)\n",
    "data[\"class\"] = df.target"
   ]
  },
  {
   "cell_type": "code",
   "execution_count": 29,
   "metadata": {},
   "outputs": [
    {
     "data": {
      "text/html": [
       "<div>\n",
       "<style scoped>\n",
       "    .dataframe tbody tr th:only-of-type {\n",
       "        vertical-align: middle;\n",
       "    }\n",
       "\n",
       "    .dataframe tbody tr th {\n",
       "        vertical-align: top;\n",
       "    }\n",
       "\n",
       "    .dataframe thead th {\n",
       "        text-align: right;\n",
       "    }\n",
       "</style>\n",
       "<table border=\"1\" class=\"dataframe\">\n",
       "  <thead>\n",
       "    <tr style=\"text-align: right;\">\n",
       "      <th></th>\n",
       "      <th>alcohol</th>\n",
       "      <th>malic_acid</th>\n",
       "      <th>ash</th>\n",
       "      <th>alcalinity_of_ash</th>\n",
       "      <th>magnesium</th>\n",
       "      <th>total_phenols</th>\n",
       "      <th>flavanoids</th>\n",
       "      <th>nonflavanoid_phenols</th>\n",
       "      <th>proanthocyanins</th>\n",
       "      <th>color_intensity</th>\n",
       "      <th>hue</th>\n",
       "      <th>od280/od315_of_diluted_wines</th>\n",
       "      <th>proline</th>\n",
       "      <th>class</th>\n",
       "    </tr>\n",
       "  </thead>\n",
       "  <tbody>\n",
       "    <tr>\n",
       "      <th>0</th>\n",
       "      <td>14.23</td>\n",
       "      <td>1.71</td>\n",
       "      <td>2.43</td>\n",
       "      <td>15.6</td>\n",
       "      <td>127.0</td>\n",
       "      <td>2.80</td>\n",
       "      <td>3.06</td>\n",
       "      <td>0.28</td>\n",
       "      <td>2.29</td>\n",
       "      <td>5.64</td>\n",
       "      <td>1.04</td>\n",
       "      <td>3.92</td>\n",
       "      <td>1065.0</td>\n",
       "      <td>0</td>\n",
       "    </tr>\n",
       "    <tr>\n",
       "      <th>1</th>\n",
       "      <td>13.20</td>\n",
       "      <td>1.78</td>\n",
       "      <td>2.14</td>\n",
       "      <td>11.2</td>\n",
       "      <td>100.0</td>\n",
       "      <td>2.65</td>\n",
       "      <td>2.76</td>\n",
       "      <td>0.26</td>\n",
       "      <td>1.28</td>\n",
       "      <td>4.38</td>\n",
       "      <td>1.05</td>\n",
       "      <td>3.40</td>\n",
       "      <td>1050.0</td>\n",
       "      <td>0</td>\n",
       "    </tr>\n",
       "    <tr>\n",
       "      <th>2</th>\n",
       "      <td>13.16</td>\n",
       "      <td>2.36</td>\n",
       "      <td>2.67</td>\n",
       "      <td>18.6</td>\n",
       "      <td>101.0</td>\n",
       "      <td>2.80</td>\n",
       "      <td>3.24</td>\n",
       "      <td>0.30</td>\n",
       "      <td>2.81</td>\n",
       "      <td>5.68</td>\n",
       "      <td>1.03</td>\n",
       "      <td>3.17</td>\n",
       "      <td>1185.0</td>\n",
       "      <td>0</td>\n",
       "    </tr>\n",
       "    <tr>\n",
       "      <th>3</th>\n",
       "      <td>14.37</td>\n",
       "      <td>1.95</td>\n",
       "      <td>2.50</td>\n",
       "      <td>16.8</td>\n",
       "      <td>113.0</td>\n",
       "      <td>3.85</td>\n",
       "      <td>3.49</td>\n",
       "      <td>0.24</td>\n",
       "      <td>2.18</td>\n",
       "      <td>7.80</td>\n",
       "      <td>0.86</td>\n",
       "      <td>3.45</td>\n",
       "      <td>1480.0</td>\n",
       "      <td>0</td>\n",
       "    </tr>\n",
       "    <tr>\n",
       "      <th>4</th>\n",
       "      <td>13.24</td>\n",
       "      <td>2.59</td>\n",
       "      <td>2.87</td>\n",
       "      <td>21.0</td>\n",
       "      <td>118.0</td>\n",
       "      <td>2.80</td>\n",
       "      <td>2.69</td>\n",
       "      <td>0.39</td>\n",
       "      <td>1.82</td>\n",
       "      <td>4.32</td>\n",
       "      <td>1.04</td>\n",
       "      <td>2.93</td>\n",
       "      <td>735.0</td>\n",
       "      <td>0</td>\n",
       "    </tr>\n",
       "  </tbody>\n",
       "</table>\n",
       "</div>"
      ],
      "text/plain": [
       "   alcohol  malic_acid   ash  alcalinity_of_ash  magnesium  total_phenols  \\\n",
       "0    14.23        1.71  2.43               15.6      127.0           2.80   \n",
       "1    13.20        1.78  2.14               11.2      100.0           2.65   \n",
       "2    13.16        2.36  2.67               18.6      101.0           2.80   \n",
       "3    14.37        1.95  2.50               16.8      113.0           3.85   \n",
       "4    13.24        2.59  2.87               21.0      118.0           2.80   \n",
       "\n",
       "   flavanoids  nonflavanoid_phenols  proanthocyanins  color_intensity   hue  \\\n",
       "0        3.06                  0.28             2.29             5.64  1.04   \n",
       "1        2.76                  0.26             1.28             4.38  1.05   \n",
       "2        3.24                  0.30             2.81             5.68  1.03   \n",
       "3        3.49                  0.24             2.18             7.80  0.86   \n",
       "4        2.69                  0.39             1.82             4.32  1.04   \n",
       "\n",
       "   od280/od315_of_diluted_wines  proline  class  \n",
       "0                          3.92   1065.0      0  \n",
       "1                          3.40   1050.0      0  \n",
       "2                          3.17   1185.0      0  \n",
       "3                          3.45   1480.0      0  \n",
       "4                          2.93    735.0      0  "
      ]
     },
     "execution_count": 29,
     "metadata": {},
     "output_type": "execute_result"
    }
   ],
   "source": [
    "data.head()"
   ]
  },
  {
   "cell_type": "code",
   "execution_count": 30,
   "metadata": {},
   "outputs": [],
   "source": [
    "from sklearn.neighbors import KNeighborsClassifier"
   ]
  },
  {
   "cell_type": "code",
   "execution_count": 31,
   "metadata": {},
   "outputs": [],
   "source": [
    "knn = KNeighborsClassifier(n_neighbors=10)"
   ]
  },
  {
   "cell_type": "code",
   "execution_count": 32,
   "metadata": {},
   "outputs": [],
   "source": [
    "from sklearn.preprocessing import StandardScaler\n",
    "sc = StandardScaler()"
   ]
  },
  {
   "cell_type": "code",
   "execution_count": 33,
   "metadata": {},
   "outputs": [],
   "source": [
    "X = data.drop([\"class\"], axis=1)\n",
    "y = data[\"class\"]"
   ]
  },
  {
   "cell_type": "code",
   "execution_count": 34,
   "metadata": {},
   "outputs": [
    {
     "data": {
      "text/plain": [
       "array([[ 1.51861254, -0.5622498 ,  0.23205254, ...,  0.36217728,\n",
       "         1.84791957,  1.01300893],\n",
       "       [ 0.24628963, -0.49941338, -0.82799632, ...,  0.40605066,\n",
       "         1.1134493 ,  0.96524152],\n",
       "       [ 0.19687903,  0.02123125,  1.10933436, ...,  0.31830389,\n",
       "         0.78858745,  1.39514818],\n",
       "       ...,\n",
       "       [ 0.33275817,  1.74474449, -0.38935541, ..., -1.61212515,\n",
       "        -1.48544548,  0.28057537],\n",
       "       [ 0.20923168,  0.22769377,  0.01273209, ..., -1.56825176,\n",
       "        -1.40069891,  0.29649784],\n",
       "       [ 1.39508604,  1.58316512,  1.36520822, ..., -1.52437837,\n",
       "        -1.42894777, -0.59516041]])"
      ]
     },
     "execution_count": 34,
     "metadata": {},
     "output_type": "execute_result"
    }
   ],
   "source": [
    "sc.fit_transform(X)"
   ]
  },
  {
   "cell_type": "code",
   "execution_count": 35,
   "metadata": {},
   "outputs": [],
   "source": [
    "from sklearn.model_selection import train_test_split"
   ]
  },
  {
   "cell_type": "code",
   "execution_count": 36,
   "metadata": {},
   "outputs": [],
   "source": [
    "Xtrain, Xtest, ytrain, ytest = train_test_split(X, y, random_state = 0, test_size = .2)"
   ]
  },
  {
   "cell_type": "code",
   "execution_count": 37,
   "metadata": {},
   "outputs": [
    {
     "data": {
      "text/plain": [
       "KNeighborsClassifier(algorithm='auto', leaf_size=30, metric='minkowski',\n",
       "                     metric_params=None, n_jobs=None, n_neighbors=10, p=2,\n",
       "                     weights='uniform')"
      ]
     },
     "execution_count": 37,
     "metadata": {},
     "output_type": "execute_result"
    }
   ],
   "source": [
    "knn.fit(Xtrain, ytrain)"
   ]
  },
  {
   "cell_type": "code",
   "execution_count": 38,
   "metadata": {},
   "outputs": [],
   "source": [
    "y_pred = knn.predict(Xtest)"
   ]
  },
  {
   "cell_type": "code",
   "execution_count": 39,
   "metadata": {},
   "outputs": [
    {
     "data": {
      "text/plain": [
       "0.7464788732394366"
      ]
     },
     "execution_count": 39,
     "metadata": {},
     "output_type": "execute_result"
    }
   ],
   "source": [
    "knn.score(Xtrain, ytrain)"
   ]
  },
  {
   "cell_type": "code",
   "execution_count": 40,
   "metadata": {},
   "outputs": [
    {
     "data": {
      "text/plain": [
       "0.7222222222222222"
      ]
     },
     "execution_count": 40,
     "metadata": {},
     "output_type": "execute_result"
    }
   ],
   "source": [
    "knn.score(Xtest, ytest)"
   ]
  },
  {
   "cell_type": "code",
   "execution_count": 42,
   "metadata": {},
   "outputs": [
    {
     "data": {
      "text/plain": [
       "{'algorithm': 'auto',\n",
       " 'leaf_size': 30,\n",
       " 'metric': 'minkowski',\n",
       " 'metric_params': None,\n",
       " 'n_jobs': None,\n",
       " 'n_neighbors': 10,\n",
       " 'p': 2,\n",
       " 'weights': 'uniform'}"
      ]
     },
     "execution_count": 42,
     "metadata": {},
     "output_type": "execute_result"
    }
   ],
   "source": [
    "knn.get_params()"
   ]
  },
  {
   "cell_type": "markdown",
   "metadata": {},
   "source": [
    "### K folds\n",
    "\n",
    "##### Data is divided into k splits of train and test"
   ]
  },
  {
   "cell_type": "code",
   "execution_count": 43,
   "metadata": {},
   "outputs": [],
   "source": [
    "from sklearn.model_selection import KFold"
   ]
  },
  {
   "cell_type": "code",
   "execution_count": 44,
   "metadata": {},
   "outputs": [],
   "source": [
    "kf = KFold(n_splits=5, shuffle=True, random_state=0)"
   ]
  },
  {
   "cell_type": "code",
   "execution_count": 45,
   "metadata": {},
   "outputs": [
    {
     "data": {
      "text/plain": [
       "<generator object _BaseKFold.split at 0x0000022C9B1059C8>"
      ]
     },
     "execution_count": 45,
     "metadata": {},
     "output_type": "execute_result"
    }
   ],
   "source": [
    "kf.split(data)"
   ]
  },
  {
   "cell_type": "code",
   "execution_count": 47,
   "metadata": {},
   "outputs": [
    {
     "name": "stdout",
     "output_type": "stream",
     "text": [
      "[  0   1   2   3   6   9  10  11  12  13  14  15  16  17  19  20  21  22\n",
      "  23  24  25  27  28  29  30  31  32  34  35  36  38  39  40  41  42  43\n",
      "  46  47  48  49  50  52  53  57  58  59  62  64  65  67  68  69  70  71\n",
      "  72  73  74  75  76  77  78  79  81  82  83  84  85  87  88  89  91  92\n",
      "  93  94  95  96  97  99 100 101 102 103 105 107 108 109 110 113 114 115\n",
      " 116 117 118 119 120 122 124 125 127 128 130 131 132 133 134 135 136 137\n",
      " 138 139 140 142 143 144 145 147 148 149 150 152 153 154 155 156 157 158\n",
      " 159 161 162 163 165 166 167 169 170 171 172 173 174 175 176 177]\n",
      "[  4   5   7   8  18  26  33  37  44  45  51  54  55  56  60  61  63  66\n",
      "  80  86  90  98 104 106 111 112 121 123 126 129 141 146 151 160 164 168]\n",
      "\n",
      "\n",
      "[  0   1   3   4   5   6   7   8   9  10  11  12  13  14  15  17  18  20\n",
      "  21  23  25  26  28  29  31  32  33  34  35  36  37  38  39  41  42  43\n",
      "  44  45  46  47  48  49  50  51  52  53  54  55  56  57  58  60  61  63\n",
      "  64  65  66  67  68  69  70  72  73  75  76  77  78  79  80  81  82  84\n",
      "  85  86  87  88  89  90  91  98  99 100 102 103 104 105 106 107 109 110\n",
      " 111 112 114 115 116 117 119 120 121 122 123 124 125 126 127 128 129 130\n",
      " 132 133 136 137 139 140 141 142 143 146 147 148 149 150 151 152 153 154\n",
      " 155 157 159 160 164 165 166 167 168 169 170 171 172 173 176 177]\n",
      "[  2  16  19  22  24  27  30  40  59  62  71  74  83  92  93  94  95  96\n",
      "  97 101 108 113 118 131 134 135 138 144 145 156 158 161 162 163 174 175]\n",
      "\n",
      "\n",
      "[  0   1   2   4   5   7   8   9  11  12  14  16  17  18  19  21  22  24\n",
      "  25  26  27  28  29  30  31  32  33  34  35  36  37  38  39  40  41  42\n",
      "  44  45  46  47  51  53  54  55  56  57  58  59  60  61  62  63  65  66\n",
      "  67  70  71  72  74  75  77  79  80  81  82  83  84  86  87  88  90  91\n",
      "  92  93  94  95  96  97  98  99 101 102 103 104 105 106 108 111 112 113\n",
      " 114 115 117 118 119 120 121 123 126 127 128 129 130 131 132 133 134 135\n",
      " 137 138 139 140 141 142 143 144 145 146 147 148 149 150 151 152 153 154\n",
      " 156 157 158 160 161 162 163 164 167 168 169 172 173 174 175 177]\n",
      "[  3   6  10  13  15  20  23  43  48  49  50  52  64  68  69  73  76  78\n",
      "  85  89 100 107 109 110 116 122 124 125 136 155 159 165 166 170 171 176]\n",
      "\n",
      "\n",
      "[  2   3   4   5   6   7   8   9  10  13  15  16  18  19  20  21  22  23\n",
      "  24  25  26  27  29  30  31  32  33  36  37  39  40  43  44  45  47  48\n",
      "  49  50  51  52  54  55  56  58  59  60  61  62  63  64  66  67  68  69\n",
      "  70  71  72  73  74  76  77  78  79  80  81  82  83  85  86  87  88  89\n",
      "  90  92  93  94  95  96  97  98  99 100 101 103 104 106 107 108 109 110\n",
      " 111 112 113 115 116 117 118 121 122 123 124 125 126 127 129 131 134 135\n",
      " 136 138 140 141 142 144 145 146 147 148 149 150 151 155 156 157 158 159\n",
      " 160 161 162 163 164 165 166 167 168 169 170 171 172 174 175 176 177]\n",
      "[  0   1  11  12  14  17  28  34  35  38  41  42  46  53  57  65  75  84\n",
      "  91 102 105 114 119 120 128 130 132 133 137 139 143 152 153 154 173]\n",
      "\n",
      "\n",
      "[  0   1   2   3   4   5   6   7   8  10  11  12  13  14  15  16  17  18\n",
      "  19  20  22  23  24  26  27  28  30  33  34  35  37  38  40  41  42  43\n",
      "  44  45  46  48  49  50  51  52  53  54  55  56  57  59  60  61  62  63\n",
      "  64  65  66  68  69  71  73  74  75  76  78  80  83  84  85  86  89  90\n",
      "  91  92  93  94  95  96  97  98 100 101 102 104 105 106 107 108 109 110\n",
      " 111 112 113 114 116 118 119 120 121 122 123 124 125 126 128 129 130 131\n",
      " 132 133 134 135 136 137 138 139 141 143 144 145 146 151 152 153 154 155\n",
      " 156 158 159 160 161 162 163 164 165 166 168 170 171 173 174 175 176]\n",
      "[  9  21  25  29  31  32  36  39  47  58  67  70  72  77  79  81  82  87\n",
      "  88  99 103 115 117 127 140 142 147 148 149 150 157 167 169 172 177]\n",
      "\n",
      "\n"
     ]
    }
   ],
   "source": [
    "for train_idx, test_idx in kf.split(data):\n",
    "    print(train_idx)\n",
    "    print(test_idx)\n",
    "    print(\"\\n\")\n",
    "    \n",
    "    \n",
    "#entire data is divided into train and test with k = 5\n",
    "# ie. data/5 or say 100/5 = 200 test and 800 train with shuffling"
   ]
  },
  {
   "cell_type": "markdown",
   "metadata": {},
   "source": [
    "### Repeated K fold\n",
    "\n",
    "RepeatedKFold repeats K-Fold n times. It can be used when one requires to run KFold n times, producing different splits in each repetition."
   ]
  },
  {
   "cell_type": "code",
   "execution_count": 49,
   "metadata": {},
   "outputs": [],
   "source": [
    "from sklearn.model_selection import RepeatedKFold\n",
    "rkf = RepeatedKFold(n_splits=3, n_repeats=2, random_state=0)"
   ]
  },
  {
   "cell_type": "raw",
   "metadata": {},
   "source": [
    "rkf.split(data)"
   ]
  },
  {
   "cell_type": "code",
   "execution_count": 51,
   "metadata": {},
   "outputs": [
    {
     "name": "stdout",
     "output_type": "stream",
     "text": [
      "[  0   1   2   3   6   9  10  11  12  13  14  15  17  20  21  23  25  27\n",
      "  28  29  31  32  34  35  36  38  39  41  42  43  46  47  48  49  50  52\n",
      "  53  57  58  59  62  64  65  67  68  69  70  72  73  75  76  77  78  79\n",
      "  81  82  83  84  85  87  88  89  91  95  96  97  99 100 102 103 105 107\n",
      " 109 110 114 115 116 117 118 119 120 122 124 125 127 128 130 132 133 134\n",
      " 136 137 139 140 142 143 147 148 149 150 152 153 154 155 156 157 159 163\n",
      " 165 166 167 169 170 171 172 173 176 177]\n",
      "[  4   5   7   8  16  18  19  22  24  26  30  33  37  40  44  45  51  54\n",
      "  55  56  60  61  63  66  71  74  80  86  90  92  93  94  98 101 104 106\n",
      " 108 111 112 113 121 123 126 129 131 135 138 141 144 145 146 151 158 160\n",
      " 161 162 164 168 174 175]\n",
      "\n",
      "\n",
      "[  1   4   5   7   8   9  11  16  17  18  19  21  22  24  25  26  28  29\n",
      "  30  31  32  33  34  35  36  37  38  39  40  41  42  44  45  47  51  53\n",
      "  54  55  56  57  58  60  61  63  65  66  67  70  71  72  74  77  79  80\n",
      "  81  82  86  87  88  90  92  93  94  98  99 101 102 103 104 105 106 108\n",
      " 111 112 113 114 115 117 119 120 121 123 126 127 128 129 131 132 133 135\n",
      " 138 139 140 141 142 143 144 145 146 147 148 149 150 151 154 157 158 160\n",
      " 161 162 164 167 168 169 172 173 174 175 177]\n",
      "[  0   2   3   6  10  12  13  14  15  20  23  27  43  46  48  49  50  52\n",
      "  59  62  64  68  69  73  75  76  78  83  84  85  89  91  95  96  97 100\n",
      " 107 109 110 116 118 122 124 125 130 134 136 137 152 153 155 156 159 163\n",
      " 165 166 170 171 176]\n",
      "\n",
      "\n",
      "[  0   2   3   4   5   6   7   8  10  12  13  14  15  16  18  19  20  22\n",
      "  23  24  26  27  30  33  37  40  43  44  45  46  48  49  50  51  52  54\n",
      "  55  56  59  60  61  62  63  64  66  68  69  71  73  74  75  76  78  80\n",
      "  83  84  85  86  89  90  91  92  93  94  95  96  97  98 100 101 104 106\n",
      " 107 108 109 110 111 112 113 116 118 121 122 123 124 125 126 129 130 131\n",
      " 134 135 136 137 138 141 144 145 146 151 152 153 155 156 158 159 160 161\n",
      " 162 163 164 165 166 168 170 171 174 175 176]\n",
      "[  1   9  11  17  21  25  28  29  31  32  34  35  36  38  39  41  42  47\n",
      "  53  57  58  65  67  70  72  77  79  81  82  87  88  99 102 103 105 114\n",
      " 115 117 119 120 127 128 132 133 139 140 142 143 147 148 149 150 154 157\n",
      " 167 169 172 173 177]\n",
      "\n",
      "\n",
      "[  0   1   2   3   5   8   9  11  12  13  16  17  18  21  22  24  25  27\n",
      "  28  29  30  31  32  33  34  35  36  39  40  41  43  44  46  48  49  51\n",
      "  53  56  58  61  62  63  66  67  69  70  71  73  75  79  80  81  84  85\n",
      "  87  88  91  92  93  96  97  99 100 104 105 108 111 112 116 118 119 120\n",
      " 121 123 125 126 127 128 129 130 131 135 136 137 138 139 140 141 142 143\n",
      " 144 145 146 147 148 150 151 152 155 156 157 158 159 160 161 162 163 164\n",
      " 165 166 167 168 169 170 172 173 175 176]\n",
      "[  4   6   7  10  14  15  19  20  23  26  37  38  42  45  47  50  52  54\n",
      "  55  57  59  60  64  65  68  72  74  76  77  78  82  83  86  89  90  94\n",
      "  95  98 101 102 103 106 107 109 110 113 114 115 117 122 124 132 133 134\n",
      " 149 153 154 171 174 177]\n",
      "\n",
      "\n",
      "[  0   2   3   4   5   6   7   9  10  11  13  14  15  18  19  20  23  24\n",
      "  26  27  29  31  32  33  34  35  36  37  38  39  40  41  42  43  44  45\n",
      "  46  47  50  51  52  53  54  55  57  59  60  61  64  65  67  68  70  71\n",
      "  72  73  74  76  77  78  79  82  83  85  86  88  89  90  93  94  95  97\n",
      "  98 101 102 103 104 106 107 108 109 110 111 113 114 115 117 118 121 122\n",
      " 124 125 126 129 131 132 133 134 137 138 147 149 152 153 154 156 157 158\n",
      " 160 161 165 166 167 170 171 172 174 175 177]\n",
      "[  1   8  12  16  17  21  22  25  28  30  48  49  56  58  62  63  66  69\n",
      "  75  80  81  84  87  91  92  96  99 100 105 112 116 119 120 123 127 128\n",
      " 130 135 136 139 140 141 142 143 144 145 146 148 150 151 155 159 162 163\n",
      " 164 168 169 173 176]\n",
      "\n",
      "\n",
      "[  1   4   6   7   8  10  12  14  15  16  17  19  20  21  22  23  25  26\n",
      "  28  30  37  38  42  45  47  48  49  50  52  54  55  56  57  58  59  60\n",
      "  62  63  64  65  66  68  69  72  74  75  76  77  78  80  81  82  83  84\n",
      "  86  87  89  90  91  92  94  95  96  98  99 100 101 102 103 105 106 107\n",
      " 109 110 112 113 114 115 116 117 119 120 122 123 124 127 128 130 132 133\n",
      " 134 135 136 139 140 141 142 143 144 145 146 148 149 150 151 153 154 155\n",
      " 159 162 163 164 168 169 171 173 174 176 177]\n",
      "[  0   2   3   5   9  11  13  18  24  27  29  31  32  33  34  35  36  39\n",
      "  40  41  43  44  46  51  53  61  67  70  71  73  79  85  88  93  97 104\n",
      " 108 111 118 121 125 126 129 131 137 138 147 152 156 157 158 160 161 165\n",
      " 166 167 170 172 175]\n",
      "\n",
      "\n"
     ]
    }
   ],
   "source": [
    "for xtrain_idx, xtest_idx in rkf.split(data):\n",
    "    print(xtrain_idx)\n",
    "    print(xtest_idx)\n",
    "    print(\"\\n\")\n",
    "    \n",
    "    \n",
    "# Basically it is just repeating the split into multiple time (n_repeat)"
   ]
  },
  {
   "cell_type": "markdown",
   "metadata": {},
   "source": [
    "### Leave one out cross validation (LOOCV)\n",
    "\n",
    "- LOOCV is a special case of k-fold CV, where k becomes equal to n (number of observations)\n",
    "- In LOOCV one sample (row) is choosen for test and other all samples(rows) are choosen as train\n",
    "- "
   ]
  },
  {
   "cell_type": "code",
   "execution_count": 52,
   "metadata": {},
   "outputs": [],
   "source": [
    "from sklearn.model_selection import LeaveOneOut"
   ]
  },
  {
   "cell_type": "code",
   "execution_count": 55,
   "metadata": {},
   "outputs": [],
   "source": [
    "loocv = LeaveOneOut()"
   ]
  },
  {
   "cell_type": "code",
   "execution_count": 57,
   "metadata": {},
   "outputs": [
    {
     "data": {
      "text/plain": [
       "<generator object BaseCrossValidator.split at 0x0000022C9BBB0D48>"
      ]
     },
     "execution_count": 57,
     "metadata": {},
     "output_type": "execute_result"
    }
   ],
   "source": [
    "loocv.split(data)"
   ]
  },
  {
   "cell_type": "code",
   "execution_count": 59,
   "metadata": {},
   "outputs": [
    {
     "name": "stdout",
     "output_type": "stream",
     "text": [
      "[  1   2   3   4   5   6   7   8   9  10  11  12  13  14  15  16  17  18\n",
      "  19  20  21  22  23  24  25  26  27  28  29  30  31  32  33  34  35  36\n",
      "  37  38  39  40  41  42  43  44  45  46  47  48  49  50  51  52  53  54\n",
      "  55  56  57  58  59  60  61  62  63  64  65  66  67  68  69  70  71  72\n",
      "  73  74  75  76  77  78  79  80  81  82  83  84  85  86  87  88  89  90\n",
      "  91  92  93  94  95  96  97  98  99 100 101 102 103 104 105 106 107 108\n",
      " 109 110 111 112 113 114 115 116 117 118 119 120 121 122 123 124 125 126\n",
      " 127 128 129 130 131 132 133 134 135 136 137 138 139 140 141 142 143 144\n",
      " 145 146 147 148 149 150 151 152 153 154 155 156 157 158 159 160 161 162\n",
      " 163 164 165 166 167 168 169 170 171 172 173 174 175 176 177]\n",
      "[0]\n",
      "\n",
      "\n",
      "[  0   2   3   4   5   6   7   8   9  10  11  12  13  14  15  16  17  18\n",
      "  19  20  21  22  23  24  25  26  27  28  29  30  31  32  33  34  35  36\n",
      "  37  38  39  40  41  42  43  44  45  46  47  48  49  50  51  52  53  54\n",
      "  55  56  57  58  59  60  61  62  63  64  65  66  67  68  69  70  71  72\n",
      "  73  74  75  76  77  78  79  80  81  82  83  84  85  86  87  88  89  90\n",
      "  91  92  93  94  95  96  97  98  99 100 101 102 103 104 105 106 107 108\n",
      " 109 110 111 112 113 114 115 116 117 118 119 120 121 122 123 124 125 126\n",
      " 127 128 129 130 131 132 133 134 135 136 137 138 139 140 141 142 143 144\n",
      " 145 146 147 148 149 150 151 152 153 154 155 156 157 158 159 160 161 162\n",
      " 163 164 165 166 167 168 169 170 171 172 173 174 175 176 177]\n",
      "[1]\n",
      "\n",
      "\n",
      "[  0   1   3   4   5   6   7   8   9  10  11  12  13  14  15  16  17  18\n",
      "  19  20  21  22  23  24  25  26  27  28  29  30  31  32  33  34  35  36\n",
      "  37  38  39  40  41  42  43  44  45  46  47  48  49  50  51  52  53  54\n",
      "  55  56  57  58  59  60  61  62  63  64  65  66  67  68  69  70  71  72\n",
      "  73  74  75  76  77  78  79  80  81  82  83  84  85  86  87  88  89  90\n",
      "  91  92  93  94  95  96  97  98  99 100 101 102 103 104 105 106 107 108\n",
      " 109 110 111 112 113 114 115 116 117 118 119 120 121 122 123 124 125 126\n",
      " 127 128 129 130 131 132 133 134 135 136 137 138 139 140 141 142 143 144\n",
      " 145 146 147 148 149 150 151 152 153 154 155 156 157 158 159 160 161 162\n",
      " 163 164 165 166 167 168 169 170 171 172 173 174 175 176 177]\n",
      "[2]\n",
      "\n",
      "\n",
      "[  0   1   2   4   5   6   7   8   9  10  11  12  13  14  15  16  17  18\n",
      "  19  20  21  22  23  24  25  26  27  28  29  30  31  32  33  34  35  36\n",
      "  37  38  39  40  41  42  43  44  45  46  47  48  49  50  51  52  53  54\n",
      "  55  56  57  58  59  60  61  62  63  64  65  66  67  68  69  70  71  72\n",
      "  73  74  75  76  77  78  79  80  81  82  83  84  85  86  87  88  89  90\n",
      "  91  92  93  94  95  96  97  98  99 100 101 102 103 104 105 106 107 108\n",
      " 109 110 111 112 113 114 115 116 117 118 119 120 121 122 123 124 125 126\n",
      " 127 128 129 130 131 132 133 134 135 136 137 138 139 140 141 142 143 144\n",
      " 145 146 147 148 149 150 151 152 153 154 155 156 157 158 159 160 161 162\n",
      " 163 164 165 166 167 168 169 170 171 172 173 174 175 176 177]\n",
      "[3]\n",
      "\n",
      "\n"
     ]
    }
   ],
   "source": [
    "i = 1\n",
    "\n",
    "for xtrain_idx, xtest_idx in loocv.split(data):\n",
    "    print(xtrain_idx)\n",
    "    print(xtest_idx)\n",
    "    print(\"\\n\")\n",
    "    \n",
    "    i = i+1\n",
    "    if i == 5:\n",
    "        break\n",
    "        \n",
    "# first 5 splits area displayed"
   ]
  },
  {
   "cell_type": "markdown",
   "metadata": {},
   "source": [
    "### Stratified K fold cross validation\n",
    "\n",
    "- In this split each fold has equal number of classes.\n",
    "- data is divided as a good representative of whole"
   ]
  },
  {
   "cell_type": "code",
   "execution_count": 77,
   "metadata": {},
   "outputs": [],
   "source": [
    "from sklearn.model_selection import StratifiedKFold\n",
    "skf = StratifiedKFold(n_splits=5, shuffle=True, random_state=0)"
   ]
  },
  {
   "cell_type": "code",
   "execution_count": 78,
   "metadata": {},
   "outputs": [
    {
     "data": {
      "text/plain": [
       "<generator object _BaseKFold.split at 0x0000022C9BC11DC8>"
      ]
     },
     "execution_count": 78,
     "metadata": {},
     "output_type": "execute_result"
    }
   ],
   "source": [
    "# It takes x and y in seperate as to understand class in lable column\n",
    "skf.split(data.drop(\"class\", axis = 1), data[\"class\"])"
   ]
  },
  {
   "cell_type": "code",
   "execution_count": 79,
   "metadata": {},
   "outputs": [
    {
     "name": "stdout",
     "output_type": "stream",
     "text": [
      "[  0   1   3   5   6   7   8   9  12  13  14  15  16  17  18  19  20  21\n",
      "  23  24  25  27  29  30  31  32  33  36  37  38  39  41  42  44  45  47\n",
      "  48  49  50  51  52  53  54  55  56  57  58  59  60  61  62  63  64  65\n",
      "  68  70  71  72  73  74  75  76  77  79  80  82  83  84  86  87  88  90\n",
      "  94  95  97  98  99 100 101 102 104 105 106 107 108 109 110 111 112 113\n",
      " 114 115 116 117 119 120 121 123 124 125 126 127 129 130 131 132 133 136\n",
      " 138 140 141 142 143 144 145 146 147 148 149 150 151 152 155 157 158 159\n",
      " 160 161 162 163 164 165 166 168 169 171 172 173 174 176 177]\n",
      "[  2   4  10  11  22  26  28  34  35  40  43  46  66  67  69  78  81  85\n",
      "  89  91  92  93  96 103 118 122 128 134 135 137 139 153 154 156 167 170\n",
      " 175]\n",
      "\n",
      "\n",
      "[  0   1   2   3   4   5   6   8   9  10  11  12  13  15  16  17  18  19\n",
      "  20  21  22  23  24  25  26  27  28  31  34  35  36  38  39  40  43  44\n",
      "  45  46  47  50  51  52  53  54  55  57  58  59  60  62  63  64  65  66\n",
      "  67  69  70  71  72  73  74  75  76  77  78  79  80  81  82  85  86  89\n",
      "  90  91  92  93  94  95  96  97  98 100 101 102 103 104 105 106 108 112\n",
      " 113 114 115 117 118 119 120 121 122 123 124 126 128 129 130 131 132 133\n",
      " 134 135 136 137 138 139 140 141 143 144 146 147 148 149 150 152 153 154\n",
      " 155 156 157 159 160 161 164 165 166 167 168 170 172 175 176 177]\n",
      "[  7  14  29  30  32  33  37  41  42  48  49  56  61  68  83  84  87  88\n",
      "  99 107 109 110 111 116 125 127 142 145 151 158 162 163 169 171 173 174]\n",
      "\n",
      "\n",
      "[  0   1   2   3   4   6   7   9  10  11  12  14  17  19  21  22  23  24\n",
      "  25  26  28  29  30  32  33  34  35  36  37  38  39  40  41  42  43  44\n",
      "  45  46  47  48  49  52  53  54  56  57  58  59  60  61  63  64  66  67\n",
      "  68  69  70  71  73  76  77  78  79  81  83  84  85  86  87  88  89  90\n",
      "  91  92  93  94  95  96  97  98  99 100 101 103 105 107 109 110 111 112\n",
      " 113 115 116 117 118 119 120 122 123 124 125 126 127 128 131 132 133 134\n",
      " 135 137 139 140 141 142 144 145 146 147 148 149 150 151 152 153 154 156\n",
      " 157 158 160 162 163 164 165 166 167 169 170 171 173 174 175 176]\n",
      "[  5   8  13  15  16  18  20  27  31  50  51  55  62  65  72  74  75  80\n",
      "  82 102 104 106 108 114 121 129 130 136 138 143 155 159 161 168 172 177]\n",
      "\n",
      "\n",
      "[  0   2   3   4   5   7   8   9  10  11  13  14  15  16  18  19  20  21\n",
      "  22  26  27  28  29  30  31  32  33  34  35  36  37  39  40  41  42  43\n",
      "  44  46  47  48  49  50  51  53  54  55  56  60  61  62  63  64  65  66\n",
      "  67  68  69  72  74  75  76  78  80  81  82  83  84  85  87  88  89  90\n",
      "  91  92  93  95  96  97  98  99 100 101 102 103 104 106 107 108 109 110\n",
      " 111 112 114 115 116 117 118 119 121 122 125 127 128 129 130 133 134 135\n",
      " 136 137 138 139 142 143 145 147 148 150 151 153 154 155 156 157 158 159\n",
      " 160 161 162 163 164 165 167 168 169 170 171 172 173 174 175 176 177]\n",
      "[  1   6  12  17  23  24  25  38  45  52  57  58  59  70  71  73  77  79\n",
      "  86  94 105 113 120 123 124 126 131 132 140 141 144 146 149 152 166]\n",
      "\n",
      "\n",
      "[  1   2   4   5   6   7   8  10  11  12  13  14  15  16  17  18  20  22\n",
      "  23  24  25  26  27  28  29  30  31  32  33  34  35  37  38  40  41  42\n",
      "  43  45  46  48  49  50  51  52  55  56  57  58  59  61  62  65  66  67\n",
      "  68  69  70  71  72  73  74  75  77  78  79  80  81  82  83  84  85  86\n",
      "  87  88  89  91  92  93  94  96  99 102 103 104 105 106 107 108 109 110\n",
      " 111 113 114 116 118 120 121 122 123 124 125 126 127 128 129 130 131 132\n",
      " 134 135 136 137 138 139 140 141 142 143 144 145 146 149 151 152 153 154\n",
      " 155 156 158 159 161 162 163 166 167 168 169 170 171 172 173 174 175 177]\n",
      "[  0   3   9  19  21  36  39  44  47  53  54  60  63  64  76  90  95  97\n",
      "  98 100 101 112 115 117 119 133 147 148 150 157 160 164 165 176]\n",
      "\n",
      "\n"
     ]
    }
   ],
   "source": [
    "for train_id, test_id in skf.split(data.drop(\"class\", axis = 1), data[\"class\"]):\n",
    "    print(train_id)\n",
    "    print(test_id)\n",
    "    print(\"\\n\")\n",
    "    \n",
    "# data is now divided into 5 folds, with proper ratio of classes in each fold"
   ]
  },
  {
   "cell_type": "markdown",
   "metadata": {},
   "source": [
    "### Cross validating our model"
   ]
  },
  {
   "cell_type": "code",
   "execution_count": 80,
   "metadata": {},
   "outputs": [],
   "source": [
    "from sklearn.model_selection import cross_val_score"
   ]
  },
  {
   "cell_type": "code",
   "execution_count": 81,
   "metadata": {},
   "outputs": [],
   "source": [
    "X = data.drop([\"class\"], axis=1)\n",
    "y = data[\"class\"]"
   ]
  },
  {
   "cell_type": "markdown",
   "metadata": {},
   "source": [
    "kf, rkf, loocv, skf"
   ]
  },
  {
   "cell_type": "code",
   "execution_count": 82,
   "metadata": {},
   "outputs": [
    {
     "data": {
      "text/plain": [
       "array([0.72222222, 0.61111111, 0.63888889, 0.82857143, 0.71428571])"
      ]
     },
     "execution_count": 82,
     "metadata": {},
     "output_type": "execute_result"
    }
   ],
   "source": [
    "cross_val_score(knn, X, y, scoring=\"accuracy\", cv = kf )"
   ]
  },
  {
   "cell_type": "code",
   "execution_count": 86,
   "metadata": {},
   "outputs": [
    {
     "data": {
      "text/plain": [
       "0.7030158730158731"
      ]
     },
     "execution_count": 86,
     "metadata": {},
     "output_type": "execute_result"
    }
   ],
   "source": [
    "cross_val_score(knn, X, y, scoring=\"accuracy\", cv = kf ).mean()"
   ]
  },
  {
   "cell_type": "code",
   "execution_count": 83,
   "metadata": {},
   "outputs": [
    {
     "data": {
      "text/plain": [
       "array([1., 1., 1., 1., 0., 1., 1., 1., 1., 1., 1., 1., 1., 1., 1., 1., 1.,\n",
       "       1., 1., 0., 1., 1., 1., 1., 0., 1., 1., 1., 1., 1., 1., 1., 1., 1.,\n",
       "       1., 1., 1., 1., 1., 1., 0., 1., 1., 0., 1., 1., 1., 1., 1., 1., 1.,\n",
       "       1., 1., 1., 1., 1., 1., 1., 1., 0., 0., 1., 0., 1., 1., 0., 1., 1.,\n",
       "       0., 0., 0., 1., 1., 0., 0., 1., 1., 0., 0., 1., 1., 0., 0., 1., 0.,\n",
       "       1., 1., 0., 1., 0., 1., 1., 1., 1., 1., 0., 0., 1., 0., 1., 0., 0.,\n",
       "       1., 1., 1., 1., 1., 1., 1., 0., 0., 1., 0., 1., 1., 1., 1., 1., 1.,\n",
       "       0., 0., 1., 1., 1., 1., 1., 1., 1., 1., 0., 1., 1., 0., 1., 0., 0.,\n",
       "       1., 0., 0., 1., 1., 0., 0., 1., 0., 0., 0., 0., 1., 1., 0., 0., 0.,\n",
       "       1., 1., 1., 0., 0., 1., 0., 0., 1., 1., 1., 0., 0., 1., 0., 1., 1.,\n",
       "       0., 0., 0., 1., 1., 0., 0., 0.])"
      ]
     },
     "execution_count": 83,
     "metadata": {},
     "output_type": "execute_result"
    }
   ],
   "source": [
    "cross_val_score(knn, X, y, scoring=\"accuracy\", cv = loocv)"
   ]
  },
  {
   "cell_type": "code",
   "execution_count": 87,
   "metadata": {},
   "outputs": [
    {
     "data": {
      "text/plain": [
       "0.6685393258426966"
      ]
     },
     "execution_count": 87,
     "metadata": {},
     "output_type": "execute_result"
    }
   ],
   "source": [
    "cross_val_score(knn, X, y, scoring=\"accuracy\", cv = loocv).mean()"
   ]
  },
  {
   "cell_type": "code",
   "execution_count": 84,
   "metadata": {},
   "outputs": [
    {
     "data": {
      "text/plain": [
       "array([0.7       , 0.6440678 , 0.72881356, 0.7       , 0.6779661 ,\n",
       "       0.62711864])"
      ]
     },
     "execution_count": 84,
     "metadata": {},
     "output_type": "execute_result"
    }
   ],
   "source": [
    "cross_val_score(knn, X, y, scoring=\"accuracy\", cv = rkf)"
   ]
  },
  {
   "cell_type": "code",
   "execution_count": 88,
   "metadata": {},
   "outputs": [
    {
     "data": {
      "text/plain": [
       "0.6796610169491525"
      ]
     },
     "execution_count": 88,
     "metadata": {},
     "output_type": "execute_result"
    }
   ],
   "source": [
    "cross_val_score(knn, X, y, scoring=\"accuracy\", cv = rkf).mean()"
   ]
  },
  {
   "cell_type": "code",
   "execution_count": 85,
   "metadata": {},
   "outputs": [
    {
     "data": {
      "text/plain": [
       "array([0.62162162, 0.72222222, 0.80555556, 0.71428571, 0.58823529])"
      ]
     },
     "execution_count": 85,
     "metadata": {},
     "output_type": "execute_result"
    }
   ],
   "source": [
    "cross_val_score(knn, X, y, scoring=\"accuracy\", cv = skf)"
   ]
  },
  {
   "cell_type": "code",
   "execution_count": 89,
   "metadata": {},
   "outputs": [
    {
     "data": {
      "text/plain": [
       "0.6903840815605522"
      ]
     },
     "execution_count": 89,
     "metadata": {},
     "output_type": "execute_result"
    }
   ],
   "source": [
    "cross_val_score(knn, X, y, scoring=\"accuracy\", cv = skf).mean()"
   ]
  },
  {
   "cell_type": "code",
   "execution_count": 97,
   "metadata": {},
   "outputs": [],
   "source": [
    "scoring = { \"acc\": \"accuracy\", \n",
    "           \"prec\": \"precision_macro\",\n",
    "           \"f1\": \"f1_micro\"\n",
    "          }"
   ]
  },
  {
   "cell_type": "markdown",
   "metadata": {},
   "source": [
    "### We can check training and testing accuracies"
   ]
  },
  {
   "cell_type": "code",
   "execution_count": 95,
   "metadata": {},
   "outputs": [],
   "source": [
    "from sklearn.model_selection import cross_validate"
   ]
  },
  {
   "cell_type": "code",
   "execution_count": null,
   "metadata": {},
   "outputs": [],
   "source": [
    "kf, rkf, loocv, skf"
   ]
  },
  {
   "cell_type": "code",
   "execution_count": 98,
   "metadata": {},
   "outputs": [
    {
     "data": {
      "text/plain": [
       "{'fit_time': array([0.00199437, 0.00199604, 0.00299096, 0.00099516, 0.00199366]),\n",
       " 'score_time': array([0.0149641 , 0.01096654, 0.01296854, 0.00997233, 0.01799273]),\n",
       " 'test_acc': array([0.72222222, 0.61111111, 0.63888889, 0.82857143, 0.71428571]),\n",
       " 'test_prec': array([0.64920635, 0.60393773, 0.61282051, 0.8       , 0.71111111]),\n",
       " 'test_f1': array([0.72222222, 0.61111111, 0.63888889, 0.82857143, 0.71428571])}"
      ]
     },
     "execution_count": 98,
     "metadata": {},
     "output_type": "execute_result"
    }
   ],
   "source": [
    "cross_validate(knn, X, y, cv =kf ,scoring=scoring )"
   ]
  },
  {
   "cell_type": "code",
   "execution_count": 99,
   "metadata": {},
   "outputs": [
    {
     "data": {
      "text/plain": [
       "{'fit_time': array([0.00299025, 0.00198841, 0.0019958 , 0.00199366, 0.00296807,\n",
       "        0.00199485]),\n",
       " 'score_time': array([0.01696277, 0.01496053, 0.01196814, 0.01400113, 0.01195288,\n",
       "        0.01101375]),\n",
       " 'test_acc': array([0.7       , 0.6440678 , 0.72881356, 0.7       , 0.6779661 ,\n",
       "        0.62711864]),\n",
       " 'test_prec': array([0.66666667, 0.60692641, 0.71398046, 0.72900246, 0.67355072,\n",
       "        0.51538462]),\n",
       " 'test_f1': array([0.7       , 0.6440678 , 0.72881356, 0.7       , 0.6779661 ,\n",
       "        0.62711864])}"
      ]
     },
     "execution_count": 99,
     "metadata": {},
     "output_type": "execute_result"
    }
   ],
   "source": [
    "cross_validate(knn, X, y, cv =rkf ,scoring=scoring )"
   ]
  },
  {
   "cell_type": "code",
   "execution_count": 100,
   "metadata": {},
   "outputs": [
    {
     "data": {
      "text/plain": [
       "{'fit_time': array([0.00299191, 0.00199389, 0.00199604, 0.00299311, 0.00399065]),\n",
       " 'score_time': array([0.01196814, 0.01097131, 0.00997233, 0.01396251, 0.01001644]),\n",
       " 'test_acc': array([0.62162162, 0.72222222, 0.80555556, 0.71428571, 0.58823529]),\n",
       " 'test_prec': array([0.5952381 , 0.70185185, 0.8026418 , 0.68809524, 0.59444444]),\n",
       " 'test_f1': array([0.62162162, 0.72222222, 0.80555556, 0.71428571, 0.58823529])}"
      ]
     },
     "execution_count": 100,
     "metadata": {},
     "output_type": "execute_result"
    }
   ],
   "source": [
    "cross_validate(knn, X, y, cv =skf ,scoring=scoring )"
   ]
  },
  {
   "cell_type": "code",
   "execution_count": 101,
   "metadata": {},
   "outputs": [
    {
     "data": {
      "text/plain": [
       "{'fit_time': array([0.00299382, 0.00199771, 0.00299335, 0.00099707, 0.00298309,\n",
       "        0.00199437, 0.00199509, 0.00199413, 0.00199723, 0.00199485,\n",
       "        0.00099754, 0.0009973 , 0.0009973 , 0.00099707, 0.00199485,\n",
       "        0.00099754, 0.00199604, 0.0009973 , 0.00100183, 0.00199556,\n",
       "        0.00099802, 0.00199485, 0.00199938, 0.00199461, 0.00099707,\n",
       "        0.00199437, 0.00199723, 0.00095057, 0.00199461, 0.00198865,\n",
       "        0.00199509, 0.00099754, 0.00099778, 0.00199246, 0.00199461,\n",
       "        0.00199389, 0.00099635, 0.00099778, 0.00099778, 0.00199342,\n",
       "        0.00299191, 0.00199461, 0.00099874, 0.00199461, 0.00199556,\n",
       "        0.00298929, 0.00199437, 0.00199389, 0.00199413, 0.0009973 ,\n",
       "        0.00099754, 0.00099778, 0.00099206, 0.00199437, 0.00099826,\n",
       "        0.00099707, 0.00199604, 0.0009973 , 0.00099707, 0.0019958 ,\n",
       "        0.00199437, 0.00099778, 0.00199342, 0.00099778, 0.00099754,\n",
       "        0.00199366, 0.0009973 , 0.0009973 , 0.00199509, 0.00099993,\n",
       "        0.00099707, 0.00198817, 0.00099683, 0.0009973 , 0.00202847,\n",
       "        0.00095701, 0.00199366, 0.00099683, 0.002002  , 0.00099778,\n",
       "        0.00099754, 0.00199246, 0.00199246, 0.00199342, 0.00199556,\n",
       "        0.00199389, 0.00199485, 0.0009954 , 0.00099683, 0.00196028,\n",
       "        0.00199509, 0.00199509, 0.00099373, 0.00199842, 0.00199509,\n",
       "        0.00295568, 0.00199533, 0.00099778, 0.00099635, 0.00199509,\n",
       "        0.00099754, 0.0009973 , 0.00203347, 0.00103378, 0.00103402,\n",
       "        0.0009954 , 0.00195456, 0.00099993, 0.00099587, 0.00298357,\n",
       "        0.0009973 , 0.00199413, 0.00099683, 0.00199437, 0.0009973 ,\n",
       "        0.00197482, 0.00195932, 0.00196362, 0.00199413, 0.00099754,\n",
       "        0.00199795, 0.00199628, 0.00099778, 0.00303912, 0.00196242,\n",
       "        0.00199485, 0.00098968, 0.00194979, 0.00199509, 0.00099754,\n",
       "        0.00199342, 0.00100636, 0.00099826, 0.00199604, 0.0019958 ,\n",
       "        0.00099969, 0.00199509, 0.00299215, 0.00199485, 0.00398922,\n",
       "        0.00099707, 0.00099826, 0.00199795, 0.00099826, 0.00199747,\n",
       "        0.00099587, 0.00100279, 0.00199437, 0.00199437, 0.00099802,\n",
       "        0.00099015, 0.00199223, 0.00199509, 0.00099826, 0.00100541,\n",
       "        0.00199628, 0.00199342, 0.00099874, 0.0019505 , 0.00199819,\n",
       "        0.00199556, 0.00199199, 0.00199366, 0.00199461, 0.00199676,\n",
       "        0.00199008, 0.00199461, 0.00099754, 0.00199294, 0.00099754,\n",
       "        0.00199437, 0.00099778, 0.00199485, 0.00099778, 0.00299907,\n",
       "        0.00099945, 0.00099754, 0.00099778]),\n",
       " 'score_time': array([0.00897217, 0.00598478, 0.00797749, 0.00797749, 0.00801754,\n",
       "        0.00797963, 0.00793934, 0.00498796, 0.00498319, 0.00601935,\n",
       "        0.00697923, 0.00598383, 0.00498605, 0.00498652, 0.00498581,\n",
       "        0.00498629, 0.00498557, 0.00598383, 0.00498247, 0.0039885 ,\n",
       "        0.00503087, 0.0039475 , 0.00498056, 0.00598478, 0.0059824 ,\n",
       "        0.00498652, 0.00598264, 0.00698042, 0.00499272, 0.00398922,\n",
       "        0.00398898, 0.00498915, 0.00498724, 0.00498629, 0.00498819,\n",
       "        0.00499368, 0.00498676, 0.0059824 , 0.00598478, 0.00498819,\n",
       "        0.00498557, 0.004987  , 0.0069809 , 0.00598359, 0.00498796,\n",
       "        0.00698161, 0.00498652, 0.00498676, 0.00398993, 0.00498772,\n",
       "        0.00498581, 0.00498724, 0.00498605, 0.00498724, 0.00498605,\n",
       "        0.00498676, 0.00598264, 0.00598431, 0.004987  , 0.00498509,\n",
       "        0.00498819, 0.00498724, 0.00498581, 0.00498652, 0.00498652,\n",
       "        0.00498605, 0.00498605, 0.00498724, 0.00398827, 0.00498295,\n",
       "        0.00499272, 0.00398874, 0.00498748, 0.00598407, 0.00499439,\n",
       "        0.00502276, 0.00598598, 0.00498629, 0.00498557, 0.00602174,\n",
       "        0.00495005, 0.00502658, 0.00596833, 0.00897551, 0.00798202,\n",
       "        0.00797725, 0.00702524, 0.00597763, 0.00498629, 0.0049839 ,\n",
       "        0.00553274, 0.00398779, 0.005023  , 0.00498271, 0.00398898,\n",
       "        0.00498819, 0.004987  , 0.00498605, 0.004987  , 0.00498414,\n",
       "        0.004987  , 0.00598669, 0.00494599, 0.00694489, 0.00549841,\n",
       "        0.00498772, 0.00502753, 0.00498843, 0.00495601, 0.00398874,\n",
       "        0.00598574, 0.00498605, 0.00498533, 0.004987  , 0.00602055,\n",
       "        0.00400853, 0.00701547, 0.00498557, 0.0069797 , 0.0079782 ,\n",
       "        0.0069797 , 0.00598097, 0.00598526, 0.00497246, 0.00598359,\n",
       "        0.00503683, 0.00498652, 0.00498915, 0.00498676, 0.00498748,\n",
       "        0.00398898, 0.00597548, 0.00598264, 0.00498652, 0.00997186,\n",
       "        0.00598288, 0.00797701, 0.00598431, 0.00698113, 0.00498676,\n",
       "        0.00598574, 0.00797653, 0.00598049, 0.00598288, 0.00598264,\n",
       "        0.00498581, 0.00597668, 0.00398922, 0.00498652, 0.0059917 ,\n",
       "        0.00598478, 0.00399017, 0.00598478, 0.00601816, 0.00498605,\n",
       "        0.00498652, 0.00598431, 0.00498486, 0.00503087, 0.00498366,\n",
       "        0.00494385, 0.00498724, 0.00498891, 0.00498509, 0.00499249,\n",
       "        0.00498533, 0.00498819, 0.00498652, 0.00498629, 0.00598407,\n",
       "        0.00398946, 0.00498581, 0.00598526, 0.00498772, 0.00502014,\n",
       "        0.00594258, 0.00598383, 0.00504208]),\n",
       " 'test_acc': array([1., 1., 1., 1., 0., 1., 1., 1., 1., 1., 1., 1., 1., 1., 1., 1., 1.,\n",
       "        1., 1., 0., 1., 1., 1., 1., 0., 1., 1., 1., 1., 1., 1., 1., 1., 1.,\n",
       "        1., 1., 1., 1., 1., 1., 0., 1., 1., 0., 1., 1., 1., 1., 1., 1., 1.,\n",
       "        1., 1., 1., 1., 1., 1., 1., 1., 0., 0., 1., 0., 1., 1., 0., 1., 1.,\n",
       "        0., 0., 0., 1., 1., 0., 0., 1., 1., 0., 0., 1., 1., 0., 0., 1., 0.,\n",
       "        1., 1., 0., 1., 0., 1., 1., 1., 1., 1., 0., 0., 1., 0., 1., 0., 0.,\n",
       "        1., 1., 1., 1., 1., 1., 1., 0., 0., 1., 0., 1., 1., 1., 1., 1., 1.,\n",
       "        0., 0., 1., 1., 1., 1., 1., 1., 1., 1., 0., 1., 1., 0., 1., 0., 0.,\n",
       "        1., 0., 0., 1., 1., 0., 0., 1., 0., 0., 0., 0., 1., 1., 0., 0., 0.,\n",
       "        1., 1., 1., 0., 0., 1., 0., 0., 1., 1., 1., 0., 0., 1., 0., 1., 1.,\n",
       "        0., 0., 0., 1., 1., 0., 0., 0.]),\n",
       " 'test_prec': array([1., 1., 1., 1., 0., 1., 1., 1., 1., 1., 1., 1., 1., 1., 1., 1., 1.,\n",
       "        1., 1., 0., 1., 1., 1., 1., 0., 1., 1., 1., 1., 1., 1., 1., 1., 1.,\n",
       "        1., 1., 1., 1., 1., 1., 0., 1., 1., 0., 1., 1., 1., 1., 1., 1., 1.,\n",
       "        1., 1., 1., 1., 1., 1., 1., 1., 0., 0., 1., 0., 1., 1., 0., 1., 1.,\n",
       "        0., 0., 0., 1., 1., 0., 0., 1., 1., 0., 0., 1., 1., 0., 0., 1., 0.,\n",
       "        1., 1., 0., 1., 0., 1., 1., 1., 1., 1., 0., 0., 1., 0., 1., 0., 0.,\n",
       "        1., 1., 1., 1., 1., 1., 1., 0., 0., 1., 0., 1., 1., 1., 1., 1., 1.,\n",
       "        0., 0., 1., 1., 1., 1., 1., 1., 1., 1., 0., 1., 1., 0., 1., 0., 0.,\n",
       "        1., 0., 0., 1., 1., 0., 0., 1., 0., 0., 0., 0., 1., 1., 0., 0., 0.,\n",
       "        1., 1., 1., 0., 0., 1., 0., 0., 1., 1., 1., 0., 0., 1., 0., 1., 1.,\n",
       "        0., 0., 0., 1., 1., 0., 0., 0.]),\n",
       " 'test_f1': array([1., 1., 1., 1., 0., 1., 1., 1., 1., 1., 1., 1., 1., 1., 1., 1., 1.,\n",
       "        1., 1., 0., 1., 1., 1., 1., 0., 1., 1., 1., 1., 1., 1., 1., 1., 1.,\n",
       "        1., 1., 1., 1., 1., 1., 0., 1., 1., 0., 1., 1., 1., 1., 1., 1., 1.,\n",
       "        1., 1., 1., 1., 1., 1., 1., 1., 0., 0., 1., 0., 1., 1., 0., 1., 1.,\n",
       "        0., 0., 0., 1., 1., 0., 0., 1., 1., 0., 0., 1., 1., 0., 0., 1., 0.,\n",
       "        1., 1., 0., 1., 0., 1., 1., 1., 1., 1., 0., 0., 1., 0., 1., 0., 0.,\n",
       "        1., 1., 1., 1., 1., 1., 1., 0., 0., 1., 0., 1., 1., 1., 1., 1., 1.,\n",
       "        0., 0., 1., 1., 1., 1., 1., 1., 1., 1., 0., 1., 1., 0., 1., 0., 0.,\n",
       "        1., 0., 0., 1., 1., 0., 0., 1., 0., 0., 0., 0., 1., 1., 0., 0., 0.,\n",
       "        1., 1., 1., 0., 0., 1., 0., 0., 1., 1., 1., 0., 0., 1., 0., 1., 1.,\n",
       "        0., 0., 0., 1., 1., 0., 0., 0.])}"
      ]
     },
     "execution_count": 101,
     "metadata": {},
     "output_type": "execute_result"
    }
   ],
   "source": [
    "cross_validate(knn, X, y, cv =loocv ,scoring=scoring )"
   ]
  },
  {
   "cell_type": "markdown",
   "metadata": {},
   "source": [
    "## GridSearchCV for hyperparameter tuning\n",
    "\n",
    "### All types of cross validation can directly be used inside Gridsearch"
   ]
  },
  {
   "cell_type": "code",
   "execution_count": 91,
   "metadata": {},
   "outputs": [],
   "source": [
    "from sklearn.model_selection import GridSearchCV"
   ]
  },
  {
   "cell_type": "code",
   "execution_count": 93,
   "metadata": {},
   "outputs": [
    {
     "data": {
      "text/plain": [
       "{'algorithm': 'auto',\n",
       " 'leaf_size': 30,\n",
       " 'metric': 'minkowski',\n",
       " 'metric_params': None,\n",
       " 'n_jobs': None,\n",
       " 'n_neighbors': 10,\n",
       " 'p': 2,\n",
       " 'weights': 'uniform'}"
      ]
     },
     "execution_count": 93,
     "metadata": {},
     "output_type": "execute_result"
    }
   ],
   "source": [
    "knn.get_params()"
   ]
  },
  {
   "cell_type": "code",
   "execution_count": 157,
   "metadata": {},
   "outputs": [],
   "source": [
    "param_grid = {#'algorithm': 'auto',\n",
    "             #'leaf_size': [30],\n",
    "             #'metric': 'minkowski',\n",
    "             #'metric_params': None,\n",
    "             #'n_jobs': None,\n",
    "             'n_neighbors': [10,12],\n",
    "             'p': [1,2],\n",
    "             }"
   ]
  },
  {
   "cell_type": "code",
   "execution_count": 158,
   "metadata": {},
   "outputs": [],
   "source": [
    "grid = GridSearchCV(knn, param_grid=param_grid, cv = skf)"
   ]
  },
  {
   "cell_type": "code",
   "execution_count": 159,
   "metadata": {},
   "outputs": [
    {
     "data": {
      "text/plain": [
       "GridSearchCV(cv=StratifiedKFold(n_splits=5, random_state=0, shuffle=True),\n",
       "             error_score='raise-deprecating',\n",
       "             estimator=KNeighborsClassifier(algorithm='auto', leaf_size=30,\n",
       "                                            metric='minkowski',\n",
       "                                            metric_params=None, n_jobs=None,\n",
       "                                            n_neighbors=10, p=2,\n",
       "                                            weights='uniform'),\n",
       "             iid='warn', n_jobs=None,\n",
       "             param_grid={'n_neighbors': [10, 12], 'p': [1, 2]},\n",
       "             pre_dispatch='2*n_jobs', refit=True, return_train_score=False,\n",
       "             scoring=None, verbose=0)"
      ]
     },
     "execution_count": 159,
     "metadata": {},
     "output_type": "execute_result"
    }
   ],
   "source": [
    "grid.fit(Xtrain, ytrain)"
   ]
  },
  {
   "cell_type": "code",
   "execution_count": 160,
   "metadata": {},
   "outputs": [
    {
     "data": {
      "text/plain": [
       "{'n_neighbors': 10, 'p': 1}"
      ]
     },
     "execution_count": 160,
     "metadata": {},
     "output_type": "execute_result"
    }
   ],
   "source": [
    "grid.best_params_"
   ]
  },
  {
   "cell_type": "code",
   "execution_count": 161,
   "metadata": {},
   "outputs": [
    {
     "data": {
      "text/plain": [
       "KNeighborsClassifier(algorithm='auto', leaf_size=30, metric='minkowski',\n",
       "                     metric_params=None, n_jobs=None, n_neighbors=10, p=1,\n",
       "                     weights='uniform')"
      ]
     },
     "execution_count": 161,
     "metadata": {},
     "output_type": "execute_result"
    }
   ],
   "source": [
    "grid.best_estimator_"
   ]
  },
  {
   "cell_type": "code",
   "execution_count": 162,
   "metadata": {},
   "outputs": [],
   "source": [
    "knnn = grid.best_estimator_"
   ]
  },
  {
   "cell_type": "code",
   "execution_count": 163,
   "metadata": {},
   "outputs": [
    {
     "data": {
      "text/plain": [
       "0.75"
      ]
     },
     "execution_count": 163,
     "metadata": {},
     "output_type": "execute_result"
    }
   ],
   "source": [
    "knnn.score(Xtest, ytest)"
   ]
  },
  {
   "cell_type": "code",
   "execution_count": 164,
   "metadata": {},
   "outputs": [
    {
     "data": {
      "text/plain": [
       "0.7816901408450704"
      ]
     },
     "execution_count": 164,
     "metadata": {},
     "output_type": "execute_result"
    }
   ],
   "source": [
    "knnn.score(Xtrain, ytrain)"
   ]
  },
  {
   "cell_type": "code",
   "execution_count": null,
   "metadata": {},
   "outputs": [],
   "source": []
  }
 ],
 "metadata": {
  "kernelspec": {
   "display_name": "Python 3",
   "language": "python",
   "name": "python3"
  },
  "language_info": {
   "codemirror_mode": {
    "name": "ipython",
    "version": 3
   },
   "file_extension": ".py",
   "mimetype": "text/x-python",
   "name": "python",
   "nbconvert_exporter": "python",
   "pygments_lexer": "ipython3",
   "version": "3.7.6"
  }
 },
 "nbformat": 4,
 "nbformat_minor": 4
}
