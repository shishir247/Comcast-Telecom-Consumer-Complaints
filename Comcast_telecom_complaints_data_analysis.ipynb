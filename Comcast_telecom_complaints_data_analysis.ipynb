{
 "cells": [
  {
   "cell_type": "markdown",
   "metadata": {},
   "source": [
    "Comcast Telecom Consumer Complaints\n",
    "\n",
    "DESCRIPTION\n",
    "\n",
    "\n",
    "Comcast is an American global telecommunication company. The firm has been providing terrible customer service. They continue to fall short despite repeated promises to improve. Only last month (October 2016) the authority fined them a $2.3 million, after receiving over 1000 consumer complaints.\n",
    "\n",
    "\n",
    "\n",
    "Data Dictionary\n",
    "\n",
    "Ticket #: Ticket number assigned to each complaint\n",
    "\n",
    "Customer Complaint: Description of complaint\n",
    "\n",
    "Date: Date of complaint\n",
    "\n",
    "Time: Time of complaint\n",
    "\n",
    "Received Via: Mode of communication of the complaint\n",
    "\n",
    "City: Customer city\n",
    "\n",
    "State: Customer state\n",
    "\n",
    "Zipcode: Customer zip\n",
    "\n",
    "Status: Status of complaint\n",
    "\n",
    "Filing on behalf of someone\n",
    "\n",
    "\n"
   ]
  },
  {
   "cell_type": "markdown",
   "metadata": {},
   "source": [
    "Analysis Task\n",
    "\n",
    "To perform these tasks, you can use any of the different Python libraries such as NumPy, SciPy, Pandas, scikit-learn, matplotlib, and BeautifulSoup.\n",
    "\n",
    "- Import data into Python environment.\n",
    "- Provide the trend chart for the number of complaints at monthly and daily granularity levels.\n",
    "- Provide a table with the frequency of complaint types.\n",
    "\n",
    "Which complaint types are maximum i.e., around internet, network issues, or across any other domains.\n",
    "- Create a new categorical variable with value as Open and Closed. Open & Pending is to be categorized as Open and Closed & Solved is to be categorized as Closed.\n",
    "- Provide state wise status of complaints in a stacked bar chart. Use the categorized variable from Q3. Provide insights on:\n",
    "\n",
    "Which state has the maximum complaints\n",
    "Which state has the highest percentage of unresolved complaints\n",
    "- Provide the percentage of complaints resolved till date, which were received through the Internet and customer care calls.\n",
    "\n",
    "The analysis results to be provided with insights wherever applicable."
   ]
  },
  {
   "cell_type": "code",
   "execution_count": 101,
   "metadata": {},
   "outputs": [],
   "source": [
    "# Importing libraries\n",
    "import pandas as pd\n",
    "import numpy as np"
   ]
  },
  {
   "cell_type": "markdown",
   "metadata": {},
   "source": [
    "Task.1 Importing data into Python environment."
   ]
  },
  {
   "cell_type": "code",
   "execution_count": 102,
   "metadata": {},
   "outputs": [],
   "source": [
    "# Reading dataset and assigning it as data\n",
    "data = pd.read_csv(\"Comcast_telecom_complaints_data.csv\")"
   ]
  },
  {
   "cell_type": "code",
   "execution_count": 103,
   "metadata": {},
   "outputs": [
    {
     "data": {
      "text/plain": [
       "Index(['Ticket #', 'Customer Complaint', 'Date', 'Date_month_year', 'Time',\n",
       "       'Received Via', 'City', 'State', 'Zip code', 'Status',\n",
       "       'Filing on Behalf of Someone'],\n",
       "      dtype='object')"
      ]
     },
     "execution_count": 103,
     "metadata": {},
     "output_type": "execute_result"
    }
   ],
   "source": [
    "# Checking column names\n",
    "data.columns"
   ]
  },
  {
   "cell_type": "code",
   "execution_count": 104,
   "metadata": {},
   "outputs": [
    {
     "data": {
      "text/html": [
       "<div>\n",
       "<style scoped>\n",
       "    .dataframe tbody tr th:only-of-type {\n",
       "        vertical-align: middle;\n",
       "    }\n",
       "\n",
       "    .dataframe tbody tr th {\n",
       "        vertical-align: top;\n",
       "    }\n",
       "\n",
       "    .dataframe thead th {\n",
       "        text-align: right;\n",
       "    }\n",
       "</style>\n",
       "<table border=\"1\" class=\"dataframe\">\n",
       "  <thead>\n",
       "    <tr style=\"text-align: right;\">\n",
       "      <th></th>\n",
       "      <th>Ticket_No</th>\n",
       "      <th>Customer_Complaint</th>\n",
       "      <th>Date</th>\n",
       "      <th>Date_month_year</th>\n",
       "      <th>Time</th>\n",
       "      <th>Received_Via</th>\n",
       "      <th>City</th>\n",
       "      <th>State</th>\n",
       "      <th>Zip_code</th>\n",
       "      <th>Status</th>\n",
       "      <th>Filing_on_Behalf_of_Someone</th>\n",
       "    </tr>\n",
       "  </thead>\n",
       "  <tbody>\n",
       "    <tr>\n",
       "      <th>0</th>\n",
       "      <td>250635</td>\n",
       "      <td>Comcast Cable Internet Speeds</td>\n",
       "      <td>22-04-15</td>\n",
       "      <td>22-Apr-15</td>\n",
       "      <td>3:53:50 PM</td>\n",
       "      <td>Customer Care Call</td>\n",
       "      <td>Abingdon</td>\n",
       "      <td>Maryland</td>\n",
       "      <td>21009</td>\n",
       "      <td>Closed</td>\n",
       "      <td>No</td>\n",
       "    </tr>\n",
       "    <tr>\n",
       "      <th>1</th>\n",
       "      <td>223441</td>\n",
       "      <td>Payment disappear - service got disconnected</td>\n",
       "      <td>04-08-15</td>\n",
       "      <td>04-Aug-15</td>\n",
       "      <td>10:22:56 AM</td>\n",
       "      <td>Internet</td>\n",
       "      <td>Acworth</td>\n",
       "      <td>Georgia</td>\n",
       "      <td>30102</td>\n",
       "      <td>Closed</td>\n",
       "      <td>No</td>\n",
       "    </tr>\n",
       "    <tr>\n",
       "      <th>2</th>\n",
       "      <td>242732</td>\n",
       "      <td>Speed and Service</td>\n",
       "      <td>18-04-15</td>\n",
       "      <td>18-Apr-15</td>\n",
       "      <td>9:55:47 AM</td>\n",
       "      <td>Internet</td>\n",
       "      <td>Acworth</td>\n",
       "      <td>Georgia</td>\n",
       "      <td>30101</td>\n",
       "      <td>Closed</td>\n",
       "      <td>Yes</td>\n",
       "    </tr>\n",
       "  </tbody>\n",
       "</table>\n",
       "</div>"
      ],
      "text/plain": [
       "  Ticket_No                            Customer_Complaint      Date  \\\n",
       "0    250635                 Comcast Cable Internet Speeds  22-04-15   \n",
       "1    223441  Payment disappear - service got disconnected  04-08-15   \n",
       "2    242732                             Speed and Service  18-04-15   \n",
       "\n",
       "  Date_month_year         Time        Received_Via      City     State  \\\n",
       "0       22-Apr-15   3:53:50 PM  Customer Care Call  Abingdon  Maryland   \n",
       "1       04-Aug-15  10:22:56 AM            Internet   Acworth   Georgia   \n",
       "2       18-Apr-15   9:55:47 AM            Internet   Acworth   Georgia   \n",
       "\n",
       "   Zip_code  Status Filing_on_Behalf_of_Someone  \n",
       "0     21009  Closed                          No  \n",
       "1     30102  Closed                          No  \n",
       "2     30101  Closed                         Yes  "
      ]
     },
     "execution_count": 104,
     "metadata": {},
     "output_type": "execute_result"
    }
   ],
   "source": [
    "#Correcting column names and replacing space with \"_\"\n",
    "data.rename(columns = {'Ticket #' : 'Ticket_No'}, inplace = True)\n",
    "data.columns = data.columns.str.replace(\" \", \"_\") # replacing space with \"_\"\n",
    "data.head(3)"
   ]
  },
  {
   "cell_type": "code",
   "execution_count": 105,
   "metadata": {},
   "outputs": [
    {
     "data": {
      "text/plain": [
       "(2224, 11)"
      ]
     },
     "execution_count": 105,
     "metadata": {},
     "output_type": "execute_result"
    }
   ],
   "source": [
    "# checking data shape\n",
    "data.shape"
   ]
  },
  {
   "cell_type": "code",
   "execution_count": 106,
   "metadata": {},
   "outputs": [
    {
     "data": {
      "text/plain": [
       "Ticket_No                      0\n",
       "Customer_Complaint             0\n",
       "Date                           0\n",
       "Date_month_year                0\n",
       "Time                           0\n",
       "Received_Via                   0\n",
       "City                           0\n",
       "State                          0\n",
       "Zip_code                       0\n",
       "Status                         0\n",
       "Filing_on_Behalf_of_Someone    0\n",
       "dtype: int64"
      ]
     },
     "execution_count": 106,
     "metadata": {},
     "output_type": "execute_result"
    }
   ],
   "source": [
    "#Checking missing values in dataset for respective columns\n",
    "data.isnull().sum()"
   ]
  },
  {
   "cell_type": "markdown",
   "metadata": {},
   "source": [
    "from above output it is observed that dataset has no missing values"
   ]
  },
  {
   "cell_type": "code",
   "execution_count": 107,
   "metadata": {},
   "outputs": [
    {
     "data": {
      "text/plain": [
       "Ticket_No                      object\n",
       "Customer_Complaint             object\n",
       "Date                           object\n",
       "Date_month_year                object\n",
       "Time                           object\n",
       "Received_Via                   object\n",
       "City                           object\n",
       "State                          object\n",
       "Zip_code                        int64\n",
       "Status                         object\n",
       "Filing_on_Behalf_of_Someone    object\n",
       "dtype: object"
      ]
     },
     "execution_count": 107,
     "metadata": {},
     "output_type": "execute_result"
    }
   ],
   "source": [
    "# Checking data types\n",
    "data.dtypes"
   ]
  },
  {
   "cell_type": "markdown",
   "metadata": {},
   "source": [
    "from above output it can be observed, Date and Date_month_year has type object"
   ]
  },
  {
   "cell_type": "code",
   "execution_count": 108,
   "metadata": {},
   "outputs": [],
   "source": [
    "# converting Date and Date_month_year column from object type to datetime\n",
    "data[\"Date\"] = pd.to_datetime(data.Date.astype(str), format = \"%d-%m-%y\")\n",
    "data[\"Date_month_year\"] = pd.to_datetime(data.Date_month_year)"
   ]
  },
  {
   "cell_type": "code",
   "execution_count": 109,
   "metadata": {},
   "outputs": [
    {
     "data": {
      "text/plain": [
       "Ticket_No                              object\n",
       "Customer_Complaint                     object\n",
       "Date                           datetime64[ns]\n",
       "Date_month_year                datetime64[ns]\n",
       "Time                                   object\n",
       "Received_Via                           object\n",
       "City                                   object\n",
       "State                                  object\n",
       "Zip_code                                int64\n",
       "Status                                 object\n",
       "Filing_on_Behalf_of_Someone            object\n",
       "dtype: object"
      ]
     },
     "execution_count": 109,
     "metadata": {},
     "output_type": "execute_result"
    }
   ],
   "source": [
    "# Checking data type again\n",
    "data.dtypes"
   ]
  },
  {
   "cell_type": "markdown",
   "metadata": {},
   "source": [
    "Date and Date_month_year column are now changed to type datetime"
   ]
  },
  {
   "cell_type": "markdown",
   "metadata": {},
   "source": [
    "Now, that we are done with all basic data checks lets perform analysis task"
   ]
  },
  {
   "cell_type": "markdown",
   "metadata": {},
   "source": [
    "Task.2 Provide the trend chart for the number of complaints at monthly and daily granularity levels."
   ]
  },
  {
   "cell_type": "code",
   "execution_count": 110,
   "metadata": {},
   "outputs": [
    {
     "data": {
      "text/html": [
       "<div>\n",
       "<style scoped>\n",
       "    .dataframe tbody tr th:only-of-type {\n",
       "        vertical-align: middle;\n",
       "    }\n",
       "\n",
       "    .dataframe tbody tr th {\n",
       "        vertical-align: top;\n",
       "    }\n",
       "\n",
       "    .dataframe thead th {\n",
       "        text-align: right;\n",
       "    }\n",
       "</style>\n",
       "<table border=\"1\" class=\"dataframe\">\n",
       "  <thead>\n",
       "    <tr style=\"text-align: right;\">\n",
       "      <th></th>\n",
       "      <th>Month</th>\n",
       "      <th>count</th>\n",
       "    </tr>\n",
       "  </thead>\n",
       "  <tbody>\n",
       "    <tr>\n",
       "      <th>0</th>\n",
       "      <td>1</td>\n",
       "      <td>55</td>\n",
       "    </tr>\n",
       "    <tr>\n",
       "      <th>1</th>\n",
       "      <td>2</td>\n",
       "      <td>59</td>\n",
       "    </tr>\n",
       "    <tr>\n",
       "      <th>2</th>\n",
       "      <td>3</td>\n",
       "      <td>45</td>\n",
       "    </tr>\n",
       "    <tr>\n",
       "      <th>3</th>\n",
       "      <td>4</td>\n",
       "      <td>375</td>\n",
       "    </tr>\n",
       "    <tr>\n",
       "      <th>4</th>\n",
       "      <td>5</td>\n",
       "      <td>317</td>\n",
       "    </tr>\n",
       "  </tbody>\n",
       "</table>\n",
       "</div>"
      ],
      "text/plain": [
       "   Month  count\n",
       "0      1     55\n",
       "1      2     59\n",
       "2      3     45\n",
       "3      4    375\n",
       "4      5    317"
      ]
     },
     "execution_count": 110,
     "metadata": {},
     "output_type": "execute_result"
    }
   ],
   "source": [
    "# Month wise complaints\n",
    "data[\"Month\"] = data.Date.dt.month # Adding Month column to dataset \n",
    "month_wise_tickets = data.groupby(\"Month\").Ticket_No.agg([\"count\"]) #Extracting monthwise ticket counts\n",
    "month_wise_tickets.reset_index(inplace=True) # Resetting index (converting date index to column)\n",
    "month_wise_tickets.head()"
   ]
  },
  {
   "cell_type": "code",
   "execution_count": 111,
   "metadata": {},
   "outputs": [
    {
     "data": {
      "image/png": "[encoded data removed]",
      "text/plain": [
       "<Figure size 1080x360 with 1 Axes>"
      ]
     },
     "metadata": {
      "needs_background": "light"
     },
     "output_type": "display_data"
    }
   ],
   "source": [
    "# Month wise complaints trend chart\n",
    "import matplotlib.pyplot as plt\n",
    "\n",
    "plt.figure(figsize = (15,5)) # increasing plot size\n",
    "plt.plot(month_wise_tickets['Month'],month_wise_tickets['count'],color='blue') #defining x, y for plot\n",
    "plt.title(\"Month wise complaints trend chart\") #plot title\n",
    "plt.xlabel('Months') # plot x_label\n",
    "plt.ylabel(\"Number of ticets\") # plot y_label\n",
    "plt.show()"
   ]
  },
  {
   "cell_type": "code",
   "execution_count": 112,
   "metadata": {},
   "outputs": [
    {
     "data": {
      "text/html": [
       "<div>\n",
       "<style scoped>\n",
       "    .dataframe tbody tr th:only-of-type {\n",
       "        vertical-align: middle;\n",
       "    }\n",
       "\n",
       "    .dataframe tbody tr th {\n",
       "        vertical-align: top;\n",
       "    }\n",
       "\n",
       "    .dataframe thead th {\n",
       "        text-align: right;\n",
       "    }\n",
       "</style>\n",
       "<table border=\"1\" class=\"dataframe\">\n",
       "  <thead>\n",
       "    <tr style=\"text-align: right;\">\n",
       "      <th></th>\n",
       "      <th>Date</th>\n",
       "      <th>count</th>\n",
       "    </tr>\n",
       "  </thead>\n",
       "  <tbody>\n",
       "    <tr>\n",
       "      <th>0</th>\n",
       "      <td>2015-01-04</td>\n",
       "      <td>18</td>\n",
       "    </tr>\n",
       "    <tr>\n",
       "      <th>1</th>\n",
       "      <td>2015-01-05</td>\n",
       "      <td>12</td>\n",
       "    </tr>\n",
       "    <tr>\n",
       "      <th>2</th>\n",
       "      <td>2015-01-06</td>\n",
       "      <td>25</td>\n",
       "    </tr>\n",
       "    <tr>\n",
       "      <th>3</th>\n",
       "      <td>2015-02-04</td>\n",
       "      <td>27</td>\n",
       "    </tr>\n",
       "    <tr>\n",
       "      <th>4</th>\n",
       "      <td>2015-02-05</td>\n",
       "      <td>7</td>\n",
       "    </tr>\n",
       "  </tbody>\n",
       "</table>\n",
       "</div>"
      ],
      "text/plain": [
       "        Date  count\n",
       "0 2015-01-04     18\n",
       "1 2015-01-05     12\n",
       "2 2015-01-06     25\n",
       "3 2015-02-04     27\n",
       "4 2015-02-05      7"
      ]
     },
     "execution_count": 112,
     "metadata": {},
     "output_type": "execute_result"
    }
   ],
   "source": [
    "# Daily complaints\n",
    "daily_tickets = data.groupby(\"Date\").Ticket_No.agg([\"count\"]) # Extracting day wise ticket counts\n",
    "daily_tickets.reset_index(inplace=True) # Resetting index (converting date index to column)\n",
    "daily_tickets.head()"
   ]
  },
  {
   "cell_type": "code",
   "execution_count": 113,
   "metadata": {},
   "outputs": [
    {
     "data": {
      "image/png": "[encoded data removed]",
      "text/plain": [
       "<Figure size 1080x360 with 1 Axes>"
      ]
     },
     "metadata": {
      "needs_background": "light"
     },
     "output_type": "display_data"
    }
   ],
   "source": [
    "# Daily complaints trend chart\n",
    "plt.figure(figsize = (15,5)) # increasing plot size\n",
    "plt.plot(daily_tickets['Date'],daily_tickets['count'],color='blue') #defining x, y for plot\n",
    "plt.title(\"Daily complaints trend chart\") #plot title\n",
    "plt.xlabel('Dates') # plot x_label\n",
    "plt.ylabel(\"Number of ticets\",) # plot y_label\n",
    "plt.show()"
   ]
  },
  {
   "cell_type": "markdown",
   "metadata": {},
   "source": [
    "Task.3 Provide a table with the frequency of complaint types. "
   ]
  },
  {
   "cell_type": "code",
   "execution_count": 114,
   "metadata": {},
   "outputs": [],
   "source": [
    "# installing wordcloud and gensim\n",
    "#!pip install wordcloud\n",
    "#!pip install gensim"
   ]
  },
  {
   "cell_type": "code",
   "execution_count": 115,
   "metadata": {},
   "outputs": [],
   "source": [
    "# Importing libraries\n",
    "import nltk.corpus\n",
    "# Importing stopwords\n",
    "from nltk.corpus import stopwords\n",
    "# Importing word limmatizer\n",
    "from nltk.stem.wordnet import WordNetLemmatizer\n",
    "# Importing string\n",
    "import string"
   ]
  },
  {
   "cell_type": "code",
   "execution_count": 116,
   "metadata": {},
   "outputs": [],
   "source": [
    "stop = set(stopwords.words(\"english\")) # to remove stop words from english\n",
    "exclude = set(string.punctuation) # to remove punctuations (. ,)\n",
    "lemma = WordNetLemmatizer() # to keep only core word of words i.e, limit from limitizer"
   ]
  },
  {
   "cell_type": "code",
   "execution_count": 117,
   "metadata": {},
   "outputs": [],
   "source": [
    "# defining a function for cleaning the document\n",
    "def clean(doc):\n",
    "    \n",
    "    # stopwords_free_sentence = lowering the str in doc and then splitting in to list \n",
    "    # and joining them back to form sentence excluding stop words.\n",
    "    stopwords_free_sentence = \" \".join([i for i in doc.lower().split() if i not in stop])\n",
    "    \n",
    "    # punctuation free = now the characters that are not in \"exclude\", \n",
    "    # iterating \"stopwords_free_sentence\" list and joining them back to \n",
    "    # form sentence making it punctaution free.\n",
    "    punc_free_sentence = \"\".join([ch for ch in stopwords_free_sentence if ch not in exclude])\n",
    "    \n",
    "    # for each word in \" punc_free_sentence\", splitting them and iterating over lemmatizer to \n",
    "    # select only core words and then joining them back\n",
    "    normalised = \" \".join(lemma.lemmatize(word) for word in punc_free_sentence.split())\n",
    "    \n",
    "    return normalised"
   ]
  },
  {
   "cell_type": "code",
   "execution_count": 118,
   "metadata": {},
   "outputs": [],
   "source": [
    "# conveting series to list\n",
    "doc_full = data[\"Customer_Complaint\"].tolist()\n",
    "\n",
    "# applying function to list doc_full and keeping it as a list by using .split\n",
    "doc_clean = [clean(doc).split() for doc in doc_full]"
   ]
  },
  {
   "cell_type": "code",
   "execution_count": 119,
   "metadata": {},
   "outputs": [],
   "source": [
    "import gensim\n",
    "from gensim import corpora\n",
    "\n",
    "# Creating a dictionary\n",
    "dictionary = corpora.Dictionary(doc_clean)"
   ]
  },
  {
   "cell_type": "code",
   "execution_count": 120,
   "metadata": {},
   "outputs": [],
   "source": [
    "# creating a document term matrix\n",
    "doc_term_matrix = [dictionary.doc2bow(doc) for doc in doc_clean]"
   ]
  },
  {
   "cell_type": "markdown",
   "metadata": {},
   "source": [
    "Document term matrix\n",
    "\n",
    "Doc List = [\"Comcast Cable Intnet Speed\", .....,]\n",
    "\n",
    "\n",
    "Doc index = [0,1,2,3]\n",
    "\n",
    "\n",
    "doc term matrix =[(0,1), (1,1), (2,1), (3,1),...]\n",
    "\n",
    "0 - IDX\n",
    "\n",
    "1 - frequency"
   ]
  },
  {
   "cell_type": "code",
   "execution_count": 121,
   "metadata": {},
   "outputs": [],
   "source": [
    "from gensim.models import LdaModel\n",
    "\n",
    "# Topic modeling\n",
    "Num_Topic = 5\n",
    "ldamodel = LdaModel(doc_term_matrix, num_topics= Num_Topic, id2word= dictionary, passes= 15)"
   ]
  },
  {
   "cell_type": "code",
   "execution_count": 122,
   "metadata": {},
   "outputs": [
    {
     "name": "stdout",
     "output_type": "stream",
     "text": [
      "(0, '0.139*\"billing\" + 0.129*\"comcast\" + 0.058*\"issue\" + 0.038*\"practice\" + 0.035*\"service\" + 0.033*\"unfair\" + 0.027*\"charge\" + 0.022*\"pricing\" + 0.012*\"help\" + 0.011*\"fraudulent\"')\n",
      "\n",
      "(1, '0.057*\"comcast\" + 0.032*\"price\" + 0.026*\"service\" + 0.022*\"high\" + 0.022*\"monopolistic\" + 0.017*\"switch\" + 0.016*\"2\" + 0.016*\"access\" + 0.014*\"incorrect\" + 0.014*\"month\"')\n",
      "\n",
      "(2, '0.189*\"comcast\" + 0.059*\"complaint\" + 0.055*\"service\" + 0.026*\"bill\" + 0.015*\"comcastxfinity\" + 0.013*\"get\" + 0.012*\"charged\" + 0.012*\"outage\" + 0.012*\"business\" + 0.011*\"contract\"')\n",
      "\n",
      "(3, '0.170*\"internet\" + 0.127*\"comcast\" + 0.076*\"data\" + 0.061*\"cap\" + 0.059*\"service\" + 0.058*\"speed\" + 0.018*\"slow\" + 0.017*\"throttling\" + 0.014*\"usage\" + 0.014*\"cable\"')\n",
      "\n",
      "(4, '0.091*\"service\" + 0.066*\"comcast\" + 0.043*\"xfinity\" + 0.030*\"fee\" + 0.026*\"poor\" + 0.022*\"customer\" + 0.013*\"contract\" + 0.012*\"deceptive\" + 0.012*\"show\" + 0.011*\"false\"')\n",
      "\n"
     ]
    }
   ],
   "source": [
    "# Extracting topics from model\n",
    "topics = ldamodel.show_topics()\n",
    "for topic in topics:\n",
    "    print(topic)\n",
    "    print()"
   ]
  },
  {
   "cell_type": "markdown",
   "metadata": {},
   "source": [
    "Output\n",
    "\n",
    "(0, p1*\"term1\" + p2*\"term1\" + p3*\"term1\" + p4*\"term1\" ... )\n",
    "\n",
    "0 - topic number\n",
    "\n",
    "p1 - probability"
   ]
  },
  {
   "cell_type": "code",
   "execution_count": 123,
   "metadata": {},
   "outputs": [],
   "source": [
    "# creating dictionary\n",
    "word_dict = {}\n",
    "for i in range(Num_Topic):\n",
    "    words = ldamodel.show_topic(i, topn =20)\n",
    "    word_dict[\"Topic # \" + \"{}\".format(i)] = [i[0] for i in words]"
   ]
  },
  {
   "cell_type": "code",
   "execution_count": 124,
   "metadata": {},
   "outputs": [
    {
     "data": {
      "text/html": [
       "<div>\n",
       "<style scoped>\n",
       "    .dataframe tbody tr th:only-of-type {\n",
       "        vertical-align: middle;\n",
       "    }\n",
       "\n",
       "    .dataframe tbody tr th {\n",
       "        vertical-align: top;\n",
       "    }\n",
       "\n",
       "    .dataframe thead th {\n",
       "        text-align: right;\n",
       "    }\n",
       "</style>\n",
       "<table border=\"1\" class=\"dataframe\">\n",
       "  <thead>\n",
       "    <tr style=\"text-align: right;\">\n",
       "      <th></th>\n",
       "      <th>Topic # 0</th>\n",
       "      <th>Topic # 1</th>\n",
       "      <th>Topic # 2</th>\n",
       "      <th>Topic # 3</th>\n",
       "      <th>Topic # 4</th>\n",
       "    </tr>\n",
       "  </thead>\n",
       "  <tbody>\n",
       "    <tr>\n",
       "      <th>0</th>\n",
       "      <td>billing</td>\n",
       "      <td>comcast</td>\n",
       "      <td>comcast</td>\n",
       "      <td>internet</td>\n",
       "      <td>service</td>\n",
       "    </tr>\n",
       "    <tr>\n",
       "      <th>1</th>\n",
       "      <td>comcast</td>\n",
       "      <td>price</td>\n",
       "      <td>complaint</td>\n",
       "      <td>comcast</td>\n",
       "      <td>comcast</td>\n",
       "    </tr>\n",
       "    <tr>\n",
       "      <th>2</th>\n",
       "      <td>issue</td>\n",
       "      <td>service</td>\n",
       "      <td>service</td>\n",
       "      <td>data</td>\n",
       "      <td>xfinity</td>\n",
       "    </tr>\n",
       "    <tr>\n",
       "      <th>3</th>\n",
       "      <td>practice</td>\n",
       "      <td>high</td>\n",
       "      <td>bill</td>\n",
       "      <td>cap</td>\n",
       "      <td>fee</td>\n",
       "    </tr>\n",
       "    <tr>\n",
       "      <th>4</th>\n",
       "      <td>service</td>\n",
       "      <td>monopolistic</td>\n",
       "      <td>comcastxfinity</td>\n",
       "      <td>service</td>\n",
       "      <td>poor</td>\n",
       "    </tr>\n",
       "    <tr>\n",
       "      <th>5</th>\n",
       "      <td>unfair</td>\n",
       "      <td>switch</td>\n",
       "      <td>get</td>\n",
       "      <td>speed</td>\n",
       "      <td>customer</td>\n",
       "    </tr>\n",
       "    <tr>\n",
       "      <th>6</th>\n",
       "      <td>charge</td>\n",
       "      <td>2</td>\n",
       "      <td>charged</td>\n",
       "      <td>slow</td>\n",
       "      <td>contract</td>\n",
       "    </tr>\n",
       "    <tr>\n",
       "      <th>7</th>\n",
       "      <td>pricing</td>\n",
       "      <td>access</td>\n",
       "      <td>outage</td>\n",
       "      <td>throttling</td>\n",
       "      <td>deceptive</td>\n",
       "    </tr>\n",
       "    <tr>\n",
       "      <th>8</th>\n",
       "      <td>help</td>\n",
       "      <td>incorrect</td>\n",
       "      <td>business</td>\n",
       "      <td>usage</td>\n",
       "      <td>show</td>\n",
       "    </tr>\n",
       "    <tr>\n",
       "      <th>9</th>\n",
       "      <td>fraudulent</td>\n",
       "      <td>month</td>\n",
       "      <td>contract</td>\n",
       "      <td>cable</td>\n",
       "      <td>false</td>\n",
       "    </tr>\n",
       "    <tr>\n",
       "      <th>10</th>\n",
       "      <td>account</td>\n",
       "      <td>false</td>\n",
       "      <td>back</td>\n",
       "      <td>paying</td>\n",
       "      <td>connection</td>\n",
       "    </tr>\n",
       "    <tr>\n",
       "      <th>11</th>\n",
       "      <td>charging</td>\n",
       "      <td>signal</td>\n",
       "      <td>lack</td>\n",
       "      <td>charge</td>\n",
       "      <td>bill</td>\n",
       "    </tr>\n",
       "    <tr>\n",
       "      <th>12</th>\n",
       "      <td>problem</td>\n",
       "      <td>bait</td>\n",
       "      <td>phone</td>\n",
       "      <td>bill</td>\n",
       "      <td>monthly</td>\n",
       "    </tr>\n",
       "    <tr>\n",
       "      <th>13</th>\n",
       "      <td>customer</td>\n",
       "      <td>slowing</td>\n",
       "      <td>email</td>\n",
       "      <td>day</td>\n",
       "      <td>installation</td>\n",
       "    </tr>\n",
       "    <tr>\n",
       "      <th>14</th>\n",
       "      <td>several</td>\n",
       "      <td>rate</td>\n",
       "      <td>said</td>\n",
       "      <td>overage</td>\n",
       "      <td>3</td>\n",
       "    </tr>\n",
       "    <tr>\n",
       "      <th>15</th>\n",
       "      <td>without</td>\n",
       "      <td>hbo</td>\n",
       "      <td>option</td>\n",
       "      <td>limit</td>\n",
       "      <td>without</td>\n",
       "    </tr>\n",
       "    <tr>\n",
       "      <th>16</th>\n",
       "      <td>please</td>\n",
       "      <td>monopoly</td>\n",
       "      <td>terrible</td>\n",
       "      <td>cramming</td>\n",
       "      <td>misleading</td>\n",
       "    </tr>\n",
       "    <tr>\n",
       "      <th>17</th>\n",
       "      <td>time</td>\n",
       "      <td>go</td>\n",
       "      <td>call</td>\n",
       "      <td>customer</td>\n",
       "      <td>refund</td>\n",
       "    </tr>\n",
       "    <tr>\n",
       "      <th>18</th>\n",
       "      <td>unauthorized</td>\n",
       "      <td>customer</td>\n",
       "      <td>price</td>\n",
       "      <td>intermittent</td>\n",
       "      <td>appointment</td>\n",
       "    </tr>\n",
       "    <tr>\n",
       "      <th>19</th>\n",
       "      <td>monopoly</td>\n",
       "      <td>ps4</td>\n",
       "      <td>people</td>\n",
       "      <td>connection</td>\n",
       "      <td>sale</td>\n",
       "    </tr>\n",
       "  </tbody>\n",
       "</table>\n",
       "</div>"
      ],
      "text/plain": [
       "       Topic # 0     Topic # 1       Topic # 2     Topic # 3     Topic # 4\n",
       "0        billing       comcast         comcast      internet       service\n",
       "1        comcast         price       complaint       comcast       comcast\n",
       "2          issue       service         service          data       xfinity\n",
       "3       practice          high            bill           cap           fee\n",
       "4        service  monopolistic  comcastxfinity       service          poor\n",
       "5         unfair        switch             get         speed      customer\n",
       "6         charge             2         charged          slow      contract\n",
       "7        pricing        access          outage    throttling     deceptive\n",
       "8           help     incorrect        business         usage          show\n",
       "9     fraudulent         month        contract         cable         false\n",
       "10       account         false            back        paying    connection\n",
       "11      charging        signal            lack        charge          bill\n",
       "12       problem          bait           phone          bill       monthly\n",
       "13      customer       slowing           email           day  installation\n",
       "14       several          rate            said       overage             3\n",
       "15       without           hbo          option         limit       without\n",
       "16        please      monopoly        terrible      cramming    misleading\n",
       "17          time            go            call      customer        refund\n",
       "18  unauthorized      customer           price  intermittent   appointment\n",
       "19      monopoly           ps4          people    connection          sale"
      ]
     },
     "execution_count": 124,
     "metadata": {},
     "output_type": "execute_result"
    }
   ],
   "source": [
    "# converting it to dataframe\n",
    "pd.DataFrame(word_dict)"
   ]
  },
  {
   "cell_type": "markdown",
   "metadata": {},
   "source": [
    "Task.4 Which complaint types are maximum i.e., around internet, network issues, or across any other domains."
   ]
  },
  {
   "cell_type": "code",
   "execution_count": 125,
   "metadata": {},
   "outputs": [],
   "source": [
    "# Converting strings to lower case for column - Customer complaint\n",
    "data.Customer_Complaint = data[\"Customer_Complaint\"].str.lower()"
   ]
  },
  {
   "cell_type": "code",
   "execution_count": 126,
   "metadata": {},
   "outputs": [],
   "source": [
    "# Categorising Customer Complaints in group internet, network and others\n",
    "\n",
    "complaint = [\"internet\", \"network\"]\n",
    "def fun(x):\n",
    "    for i in complaint:\n",
    "        if i in x:\n",
    "            return i\n",
    "    return \"others\"\n",
    "\n",
    "# adding new column - Complaint_Types to data\n",
    "data[\"Complaint_Types\"] = data.Customer_Complaint.apply(lambda x: fun(x))"
   ]
  },
  {
   "cell_type": "code",
   "execution_count": 127,
   "metadata": {},
   "outputs": [
    {
     "data": {
      "text/plain": [
       "Complaint_Types\n",
       "others      1690\n",
       "internet     532\n",
       "network        2\n",
       "Name: Complaint_Types, dtype: int64"
      ]
     },
     "execution_count": 127,
     "metadata": {},
     "output_type": "execute_result"
    }
   ],
   "source": [
    "# Table with the frequency of complaint types\n",
    "data.groupby(\"Complaint_Types\").Complaint_Types.count().sort_values(ascending = False)\n",
    "# counting with respect to complaint types and sorting in decending order"
   ]
  },
  {
   "cell_type": "markdown",
   "metadata": {},
   "source": [
    "from above result we can conclude that a part from internet, network and speed issues,\n",
    "maximum complaints are of other domain ie. 1690."
   ]
  },
  {
   "cell_type": "markdown",
   "metadata": {},
   "source": [
    "Task.5 Create a new categorical variable with value as Open and Closed. Open & Pending is to be categorized as Open and Closed & Solved is to be categorized as Closed."
   ]
  },
  {
   "cell_type": "code",
   "execution_count": 128,
   "metadata": {},
   "outputs": [
    {
     "data": {
      "text/plain": [
       "array(['Closed', 'Open', 'Solved', 'Pending'], dtype=object)"
      ]
     },
     "execution_count": 128,
     "metadata": {},
     "output_type": "execute_result"
    }
   ],
   "source": [
    "# Checking Status column for unique strings\n",
    "data.Status.unique()"
   ]
  },
  {
   "cell_type": "code",
   "execution_count": 129,
   "metadata": {},
   "outputs": [
    {
     "data": {
      "text/html": [
       "<div>\n",
       "<style scoped>\n",
       "    .dataframe tbody tr th:only-of-type {\n",
       "        vertical-align: middle;\n",
       "    }\n",
       "\n",
       "    .dataframe tbody tr th {\n",
       "        vertical-align: top;\n",
       "    }\n",
       "\n",
       "    .dataframe thead th {\n",
       "        text-align: right;\n",
       "    }\n",
       "</style>\n",
       "<table border=\"1\" class=\"dataframe\">\n",
       "  <thead>\n",
       "    <tr style=\"text-align: right;\">\n",
       "      <th></th>\n",
       "      <th>Ticket_No</th>\n",
       "      <th>Customer_Complaint</th>\n",
       "      <th>Date</th>\n",
       "      <th>Date_month_year</th>\n",
       "      <th>Time</th>\n",
       "      <th>Received_Via</th>\n",
       "      <th>City</th>\n",
       "      <th>State</th>\n",
       "      <th>Zip_code</th>\n",
       "      <th>Status</th>\n",
       "      <th>Filing_on_Behalf_of_Someone</th>\n",
       "      <th>Month</th>\n",
       "      <th>Complaint_Types</th>\n",
       "      <th>New_Status</th>\n",
       "    </tr>\n",
       "  </thead>\n",
       "  <tbody>\n",
       "    <tr>\n",
       "      <th>0</th>\n",
       "      <td>250635</td>\n",
       "      <td>comcast cable internet speeds</td>\n",
       "      <td>2015-04-22</td>\n",
       "      <td>2015-04-22</td>\n",
       "      <td>3:53:50 PM</td>\n",
       "      <td>Customer Care Call</td>\n",
       "      <td>Abingdon</td>\n",
       "      <td>Maryland</td>\n",
       "      <td>21009</td>\n",
       "      <td>Closed</td>\n",
       "      <td>No</td>\n",
       "      <td>4</td>\n",
       "      <td>internet</td>\n",
       "      <td>Closed</td>\n",
       "    </tr>\n",
       "    <tr>\n",
       "      <th>1</th>\n",
       "      <td>223441</td>\n",
       "      <td>payment disappear - service got disconnected</td>\n",
       "      <td>2015-08-04</td>\n",
       "      <td>2015-08-04</td>\n",
       "      <td>10:22:56 AM</td>\n",
       "      <td>Internet</td>\n",
       "      <td>Acworth</td>\n",
       "      <td>Georgia</td>\n",
       "      <td>30102</td>\n",
       "      <td>Closed</td>\n",
       "      <td>No</td>\n",
       "      <td>8</td>\n",
       "      <td>others</td>\n",
       "      <td>Closed</td>\n",
       "    </tr>\n",
       "    <tr>\n",
       "      <th>2</th>\n",
       "      <td>242732</td>\n",
       "      <td>speed and service</td>\n",
       "      <td>2015-04-18</td>\n",
       "      <td>2015-04-18</td>\n",
       "      <td>9:55:47 AM</td>\n",
       "      <td>Internet</td>\n",
       "      <td>Acworth</td>\n",
       "      <td>Georgia</td>\n",
       "      <td>30101</td>\n",
       "      <td>Closed</td>\n",
       "      <td>Yes</td>\n",
       "      <td>4</td>\n",
       "      <td>others</td>\n",
       "      <td>Closed</td>\n",
       "    </tr>\n",
       "    <tr>\n",
       "      <th>3</th>\n",
       "      <td>277946</td>\n",
       "      <td>comcast imposed a new usage cap of 300gb that ...</td>\n",
       "      <td>2015-07-05</td>\n",
       "      <td>2015-07-05</td>\n",
       "      <td>11:59:35 AM</td>\n",
       "      <td>Internet</td>\n",
       "      <td>Acworth</td>\n",
       "      <td>Georgia</td>\n",
       "      <td>30101</td>\n",
       "      <td>Open</td>\n",
       "      <td>Yes</td>\n",
       "      <td>7</td>\n",
       "      <td>others</td>\n",
       "      <td>Open</td>\n",
       "    </tr>\n",
       "    <tr>\n",
       "      <th>4</th>\n",
       "      <td>307175</td>\n",
       "      <td>comcast not working and no service to boot</td>\n",
       "      <td>2015-05-26</td>\n",
       "      <td>2015-05-26</td>\n",
       "      <td>1:25:26 PM</td>\n",
       "      <td>Internet</td>\n",
       "      <td>Acworth</td>\n",
       "      <td>Georgia</td>\n",
       "      <td>30101</td>\n",
       "      <td>Solved</td>\n",
       "      <td>No</td>\n",
       "      <td>5</td>\n",
       "      <td>others</td>\n",
       "      <td>Closed</td>\n",
       "    </tr>\n",
       "  </tbody>\n",
       "</table>\n",
       "</div>"
      ],
      "text/plain": [
       "  Ticket_No                                 Customer_Complaint       Date  \\\n",
       "0    250635                      comcast cable internet speeds 2015-04-22   \n",
       "1    223441       payment disappear - service got disconnected 2015-08-04   \n",
       "2    242732                                  speed and service 2015-04-18   \n",
       "3    277946  comcast imposed a new usage cap of 300gb that ... 2015-07-05   \n",
       "4    307175         comcast not working and no service to boot 2015-05-26   \n",
       "\n",
       "  Date_month_year         Time        Received_Via      City     State  \\\n",
       "0      2015-04-22   3:53:50 PM  Customer Care Call  Abingdon  Maryland   \n",
       "1      2015-08-04  10:22:56 AM            Internet   Acworth   Georgia   \n",
       "2      2015-04-18   9:55:47 AM            Internet   Acworth   Georgia   \n",
       "3      2015-07-05  11:59:35 AM            Internet   Acworth   Georgia   \n",
       "4      2015-05-26   1:25:26 PM            Internet   Acworth   Georgia   \n",
       "\n",
       "   Zip_code  Status Filing_on_Behalf_of_Someone  Month Complaint_Types  \\\n",
       "0     21009  Closed                          No      4        internet   \n",
       "1     30102  Closed                          No      8          others   \n",
       "2     30101  Closed                         Yes      4          others   \n",
       "3     30101    Open                         Yes      7          others   \n",
       "4     30101  Solved                          No      5          others   \n",
       "\n",
       "  New_Status  \n",
       "0     Closed  \n",
       "1     Closed  \n",
       "2     Closed  \n",
       "3       Open  \n",
       "4     Closed  "
      ]
     },
     "execution_count": 129,
     "metadata": {},
     "output_type": "execute_result"
    }
   ],
   "source": [
    "# filtering data set and creating a new column - New_status with value as Open and Closed.\n",
    "# Open for Open & Pending , Closed for Closed & Solved\n",
    "\n",
    "complaint = [\"Open\",\"Pending\"]\n",
    "def fun(x):\n",
    "    for i in complaint:\n",
    "        if i in x:\n",
    "            return \"Open\"\n",
    "    return \"Closed\"\n",
    "\n",
    "# adding new column complaint types to data\n",
    "data[\"New_Status\"] = data.Status.apply(lambda x: fun(x))\n",
    "data.head()"
   ]
  },
  {
   "cell_type": "markdown",
   "metadata": {},
   "source": [
    "Task.6 Which state has the maximum complaints, Provide state wise status of complaints in a stacked bar chart."
   ]
  },
  {
   "cell_type": "code",
   "execution_count": 130,
   "metadata": {},
   "outputs": [
    {
     "data": {
      "text/html": [
       "<div>\n",
       "<style scoped>\n",
       "    .dataframe tbody tr th:only-of-type {\n",
       "        vertical-align: middle;\n",
       "    }\n",
       "\n",
       "    .dataframe tbody tr th {\n",
       "        vertical-align: top;\n",
       "    }\n",
       "\n",
       "    .dataframe thead th {\n",
       "        text-align: right;\n",
       "    }\n",
       "</style>\n",
       "<table border=\"1\" class=\"dataframe\">\n",
       "  <thead>\n",
       "    <tr style=\"text-align: right;\">\n",
       "      <th></th>\n",
       "      <th>State</th>\n",
       "      <th>complaints</th>\n",
       "    </tr>\n",
       "  </thead>\n",
       "  <tbody>\n",
       "    <tr>\n",
       "      <th>0</th>\n",
       "      <td>Georgia</td>\n",
       "      <td>288</td>\n",
       "    </tr>\n",
       "    <tr>\n",
       "      <th>1</th>\n",
       "      <td>Florida</td>\n",
       "      <td>240</td>\n",
       "    </tr>\n",
       "    <tr>\n",
       "      <th>2</th>\n",
       "      <td>California</td>\n",
       "      <td>220</td>\n",
       "    </tr>\n",
       "    <tr>\n",
       "      <th>3</th>\n",
       "      <td>Illinois</td>\n",
       "      <td>164</td>\n",
       "    </tr>\n",
       "    <tr>\n",
       "      <th>4</th>\n",
       "      <td>Tennessee</td>\n",
       "      <td>143</td>\n",
       "    </tr>\n",
       "  </tbody>\n",
       "</table>\n",
       "</div>"
      ],
      "text/plain": [
       "        State  complaints\n",
       "0     Georgia         288\n",
       "1     Florida         240\n",
       "2  California         220\n",
       "3    Illinois         164\n",
       "4   Tennessee         143"
      ]
     },
     "execution_count": 130,
     "metadata": {},
     "output_type": "execute_result"
    }
   ],
   "source": [
    "# state wise total complaints\n",
    "state_wise_complaint = data.groupby('State').size().sort_values(\n",
    "    ascending = False).reset_index().rename({0:\"complaints\"}, axis=1)\n",
    "\n",
    "state_wise_complaint.head()"
   ]
  },
  {
   "cell_type": "markdown",
   "metadata": {},
   "source": [
    "from above output it is observed that state 'Georgia' has highest complaints"
   ]
  },
  {
   "cell_type": "code",
   "execution_count": 131,
   "metadata": {},
   "outputs": [
    {
     "data": {
      "text/html": [
       "<div>\n",
       "<style scoped>\n",
       "    .dataframe tbody tr th:only-of-type {\n",
       "        vertical-align: middle;\n",
       "    }\n",
       "\n",
       "    .dataframe tbody tr th {\n",
       "        vertical-align: top;\n",
       "    }\n",
       "\n",
       "    .dataframe thead th {\n",
       "        text-align: right;\n",
       "    }\n",
       "</style>\n",
       "<table border=\"1\" class=\"dataframe\">\n",
       "  <thead>\n",
       "    <tr style=\"text-align: right;\">\n",
       "      <th>New_Status</th>\n",
       "      <th>Closed</th>\n",
       "      <th>Open</th>\n",
       "    </tr>\n",
       "    <tr>\n",
       "      <th>State</th>\n",
       "      <th></th>\n",
       "      <th></th>\n",
       "    </tr>\n",
       "  </thead>\n",
       "  <tbody>\n",
       "    <tr>\n",
       "      <th>Alabama</th>\n",
       "      <td>17.0</td>\n",
       "      <td>9.0</td>\n",
       "    </tr>\n",
       "    <tr>\n",
       "      <th>Arizona</th>\n",
       "      <td>14.0</td>\n",
       "      <td>6.0</td>\n",
       "    </tr>\n",
       "    <tr>\n",
       "      <th>Arkansas</th>\n",
       "      <td>6.0</td>\n",
       "      <td>NaN</td>\n",
       "    </tr>\n",
       "    <tr>\n",
       "      <th>California</th>\n",
       "      <td>159.0</td>\n",
       "      <td>61.0</td>\n",
       "    </tr>\n",
       "    <tr>\n",
       "      <th>Colorado</th>\n",
       "      <td>58.0</td>\n",
       "      <td>22.0</td>\n",
       "    </tr>\n",
       "  </tbody>\n",
       "</table>\n",
       "</div>"
      ],
      "text/plain": [
       "New_Status  Closed  Open\n",
       "State                   \n",
       "Alabama       17.0   9.0\n",
       "Arizona       14.0   6.0\n",
       "Arkansas       6.0   NaN\n",
       "California   159.0  61.0\n",
       "Colorado      58.0  22.0"
      ]
     },
     "execution_count": 131,
     "metadata": {},
     "output_type": "execute_result"
    }
   ],
   "source": [
    "# state wise status of complaints\n",
    "state_wise_status = data.groupby([\"State\", \"New_Status\"]).size().unstack()\n",
    "state_wise_status.head()"
   ]
  },
  {
   "cell_type": "code",
   "execution_count": 141,
   "metadata": {},
   "outputs": [
    {
     "data": {
      "text/plain": [
       "Text(0, 0.5, 'Complaints')"
      ]
     },
     "execution_count": 141,
     "metadata": {},
     "output_type": "execute_result"
    },
    {
     "data": {
      "image/png": "[encoded data removed]",
      "text/plain": [
       "<Figure size 720x1080 with 1 Axes>"
      ]
     },
     "metadata": {
      "needs_background": "light"
     },
     "output_type": "display_data"
    }
   ],
   "source": [
    "# state wise status of complaints in a stacked bar chart\n",
    "state_wise_status.plot(kind = \"barh\", figsize = (10,15), stacked = True)\n",
    "plt.title(\"State wise complaint\", fontsize = 15) #plot title\n",
    "plt.xlabel('Status',fontsize = 10) # plot x_label\n",
    "plt.ylabel(\"Complaints\",fontsize = 10) # plot y_label"
   ]
  },
  {
   "cell_type": "markdown",
   "metadata": {},
   "source": [
    "Task.7 Which state has the highest percentage of unresolved complaints."
   ]
  },
  {
   "cell_type": "code",
   "execution_count": 133,
   "metadata": {},
   "outputs": [
    {
     "data": {
      "text/html": [
       "<div>\n",
       "<style scoped>\n",
       "    .dataframe tbody tr th:only-of-type {\n",
       "        vertical-align: middle;\n",
       "    }\n",
       "\n",
       "    .dataframe tbody tr th {\n",
       "        vertical-align: top;\n",
       "    }\n",
       "\n",
       "    .dataframe thead th {\n",
       "        text-align: right;\n",
       "    }\n",
       "</style>\n",
       "<table border=\"1\" class=\"dataframe\">\n",
       "  <thead>\n",
       "    <tr style=\"text-align: right;\">\n",
       "      <th>New_Status</th>\n",
       "      <th>Closed</th>\n",
       "      <th>Open</th>\n",
       "    </tr>\n",
       "    <tr>\n",
       "      <th>State</th>\n",
       "      <th></th>\n",
       "      <th></th>\n",
       "    </tr>\n",
       "  </thead>\n",
       "  <tbody>\n",
       "    <tr>\n",
       "      <th>Alabama</th>\n",
       "      <td>17.0</td>\n",
       "      <td>9.0</td>\n",
       "    </tr>\n",
       "    <tr>\n",
       "      <th>Arizona</th>\n",
       "      <td>14.0</td>\n",
       "      <td>6.0</td>\n",
       "    </tr>\n",
       "    <tr>\n",
       "      <th>Arkansas</th>\n",
       "      <td>6.0</td>\n",
       "      <td>NaN</td>\n",
       "    </tr>\n",
       "    <tr>\n",
       "      <th>California</th>\n",
       "      <td>159.0</td>\n",
       "      <td>61.0</td>\n",
       "    </tr>\n",
       "    <tr>\n",
       "      <th>Colorado</th>\n",
       "      <td>58.0</td>\n",
       "      <td>22.0</td>\n",
       "    </tr>\n",
       "  </tbody>\n",
       "</table>\n",
       "</div>"
      ],
      "text/plain": [
       "New_Status  Closed  Open\n",
       "State                   \n",
       "Alabama       17.0   9.0\n",
       "Arizona       14.0   6.0\n",
       "Arkansas       6.0   NaN\n",
       "California   159.0  61.0\n",
       "Colorado      58.0  22.0"
      ]
     },
     "execution_count": 133,
     "metadata": {},
     "output_type": "execute_result"
    }
   ],
   "source": [
    "state_wise_status.head()"
   ]
  },
  {
   "cell_type": "code",
   "execution_count": 134,
   "metadata": {},
   "outputs": [
    {
     "data": {
      "text/html": [
       "<div>\n",
       "<style scoped>\n",
       "    .dataframe tbody tr th:only-of-type {\n",
       "        vertical-align: middle;\n",
       "    }\n",
       "\n",
       "    .dataframe tbody tr th {\n",
       "        vertical-align: top;\n",
       "    }\n",
       "\n",
       "    .dataframe thead th {\n",
       "        text-align: right;\n",
       "    }\n",
       "</style>\n",
       "<table border=\"1\" class=\"dataframe\">\n",
       "  <thead>\n",
       "    <tr style=\"text-align: right;\">\n",
       "      <th>New_Status</th>\n",
       "      <th>Closed</th>\n",
       "      <th>Open</th>\n",
       "      <th>Total_Complaints</th>\n",
       "      <th>%_Unresolved_Complaints</th>\n",
       "    </tr>\n",
       "    <tr>\n",
       "      <th>State</th>\n",
       "      <th></th>\n",
       "      <th></th>\n",
       "      <th></th>\n",
       "      <th></th>\n",
       "    </tr>\n",
       "  </thead>\n",
       "  <tbody>\n",
       "    <tr>\n",
       "      <th>Alabama</th>\n",
       "      <td>17.0</td>\n",
       "      <td>9.0</td>\n",
       "      <td>26.0</td>\n",
       "      <td>34.615385</td>\n",
       "    </tr>\n",
       "    <tr>\n",
       "      <th>Arizona</th>\n",
       "      <td>14.0</td>\n",
       "      <td>6.0</td>\n",
       "      <td>20.0</td>\n",
       "      <td>30.000000</td>\n",
       "    </tr>\n",
       "    <tr>\n",
       "      <th>Arkansas</th>\n",
       "      <td>6.0</td>\n",
       "      <td>NaN</td>\n",
       "      <td>NaN</td>\n",
       "      <td>NaN</td>\n",
       "    </tr>\n",
       "    <tr>\n",
       "      <th>California</th>\n",
       "      <td>159.0</td>\n",
       "      <td>61.0</td>\n",
       "      <td>220.0</td>\n",
       "      <td>27.727273</td>\n",
       "    </tr>\n",
       "    <tr>\n",
       "      <th>Colorado</th>\n",
       "      <td>58.0</td>\n",
       "      <td>22.0</td>\n",
       "      <td>80.0</td>\n",
       "      <td>27.500000</td>\n",
       "    </tr>\n",
       "  </tbody>\n",
       "</table>\n",
       "</div>"
      ],
      "text/plain": [
       "New_Status  Closed  Open  Total_Complaints  %_Unresolved_Complaints\n",
       "State                                                              \n",
       "Alabama       17.0   9.0              26.0                34.615385\n",
       "Arizona       14.0   6.0              20.0                30.000000\n",
       "Arkansas       6.0   NaN               NaN                      NaN\n",
       "California   159.0  61.0             220.0                27.727273\n",
       "Colorado      58.0  22.0              80.0                27.500000"
      ]
     },
     "execution_count": 134,
     "metadata": {},
     "output_type": "execute_result"
    }
   ],
   "source": [
    "# State that has highest percentage of unresolved complaints\n",
    "state_wise_status[\"Total_Complaints\"] = state_wise_status.Closed + state_wise_status.Open\n",
    "state_wise_status[\"%_Unresolved_Complaints\"] = (state_wise_status.Open/\n",
    "                                                state_wise_status.Total_Complaints)*100\n",
    "state_wise_status.head()"
   ]
  },
  {
   "cell_type": "code",
   "execution_count": 135,
   "metadata": {},
   "outputs": [
    {
     "data": {
      "text/plain": [
       "'Kansas'"
      ]
     },
     "execution_count": 135,
     "metadata": {},
     "output_type": "execute_result"
    }
   ],
   "source": [
    "# fetching state that has highest %_Unresolved_Complaints\n",
    "state_wise_status[\"%_Unresolved_Complaints\"].idxmax()"
   ]
  },
  {
   "cell_type": "markdown",
   "metadata": {},
   "source": [
    "Kansas has highest percentage of unresolved complaints"
   ]
  },
  {
   "cell_type": "code",
   "execution_count": 136,
   "metadata": {},
   "outputs": [
    {
     "data": {
      "text/plain": [
       "50.0"
      ]
     },
     "execution_count": 136,
     "metadata": {},
     "output_type": "execute_result"
    }
   ],
   "source": [
    "# fetching highest %\n",
    "state_wise_status[\"%_Unresolved_Complaints\"].max()"
   ]
  },
  {
   "cell_type": "markdown",
   "metadata": {},
   "source": [
    "Kansas has 50.00 percent of unresolved complaints"
   ]
  },
  {
   "cell_type": "markdown",
   "metadata": {},
   "source": [
    "Task.8 Provide the percentage of complaints resolved till date,\n",
    "which were received through the Internet and customer care calls."
   ]
  },
  {
   "cell_type": "code",
   "execution_count": 137,
   "metadata": {},
   "outputs": [
    {
     "data": {
      "text/plain": [
       "Received_Via\n",
       "Customer Care Call    1119\n",
       "Internet              1105\n",
       "dtype: int64"
      ]
     },
     "execution_count": 137,
     "metadata": {},
     "output_type": "execute_result"
    }
   ],
   "source": [
    "data.groupby(\"Received_Via\").size()"
   ]
  },
  {
   "cell_type": "markdown",
   "metadata": {},
   "source": [
    "Complaints received through the Internet and Customer care calls are 1119 and 1105 respectively"
   ]
  },
  {
   "cell_type": "code",
   "execution_count": 138,
   "metadata": {},
   "outputs": [
    {
     "data": {
      "text/html": [
       "<div>\n",
       "<style scoped>\n",
       "    .dataframe tbody tr th:only-of-type {\n",
       "        vertical-align: middle;\n",
       "    }\n",
       "\n",
       "    .dataframe tbody tr th {\n",
       "        vertical-align: top;\n",
       "    }\n",
       "\n",
       "    .dataframe thead th {\n",
       "        text-align: right;\n",
       "    }\n",
       "</style>\n",
       "<table border=\"1\" class=\"dataframe\">\n",
       "  <thead>\n",
       "    <tr style=\"text-align: right;\">\n",
       "      <th>New_Status</th>\n",
       "      <th>Received_Via</th>\n",
       "      <th>Closed</th>\n",
       "      <th>Open</th>\n",
       "    </tr>\n",
       "  </thead>\n",
       "  <tbody>\n",
       "    <tr>\n",
       "      <th>0</th>\n",
       "      <td>Customer Care Call</td>\n",
       "      <td>864</td>\n",
       "      <td>255</td>\n",
       "    </tr>\n",
       "    <tr>\n",
       "      <th>1</th>\n",
       "      <td>Internet</td>\n",
       "      <td>843</td>\n",
       "      <td>262</td>\n",
       "    </tr>\n",
       "  </tbody>\n",
       "</table>\n",
       "</div>"
      ],
      "text/plain": [
       "New_Status        Received_Via  Closed  Open\n",
       "0           Customer Care Call     864   255\n",
       "1                     Internet     843   262"
      ]
     },
     "execution_count": 138,
     "metadata": {},
     "output_type": "execute_result"
    }
   ],
   "source": [
    "# fetching status based on mode of communication of the complaints\n",
    "status_mode_of_comm = data.groupby([\"Received_Via\", \"New_Status\"]).size().unstack().reset_index()\n",
    "status_mode_of_comm"
   ]
  },
  {
   "cell_type": "code",
   "execution_count": 139,
   "metadata": {},
   "outputs": [
    {
     "data": {
      "text/html": [
       "<div>\n",
       "<style scoped>\n",
       "    .dataframe tbody tr th:only-of-type {\n",
       "        vertical-align: middle;\n",
       "    }\n",
       "\n",
       "    .dataframe tbody tr th {\n",
       "        vertical-align: top;\n",
       "    }\n",
       "\n",
       "    .dataframe thead th {\n",
       "        text-align: right;\n",
       "    }\n",
       "</style>\n",
       "<table border=\"1\" class=\"dataframe\">\n",
       "  <thead>\n",
       "    <tr style=\"text-align: right;\">\n",
       "      <th>New_Status</th>\n",
       "      <th>Received_Via</th>\n",
       "      <th>Closed</th>\n",
       "      <th>Open</th>\n",
       "      <th>Total_Complaints</th>\n",
       "    </tr>\n",
       "  </thead>\n",
       "  <tbody>\n",
       "    <tr>\n",
       "      <th>0</th>\n",
       "      <td>Customer Care Call</td>\n",
       "      <td>864</td>\n",
       "      <td>255</td>\n",
       "      <td>1119</td>\n",
       "    </tr>\n",
       "    <tr>\n",
       "      <th>1</th>\n",
       "      <td>Internet</td>\n",
       "      <td>843</td>\n",
       "      <td>262</td>\n",
       "      <td>1105</td>\n",
       "    </tr>\n",
       "  </tbody>\n",
       "</table>\n",
       "</div>"
      ],
      "text/plain": [
       "New_Status        Received_Via  Closed  Open  Total_Complaints\n",
       "0           Customer Care Call     864   255              1119\n",
       "1                     Internet     843   262              1105"
      ]
     },
     "execution_count": 139,
     "metadata": {},
     "output_type": "execute_result"
    }
   ],
   "source": [
    "# adding column - Total_Complaints\n",
    "status_mode_of_comm[\"Total_Complaints\"] = status_mode_of_comm.Closed + status_mode_of_comm.Open\n",
    "status_mode_of_comm"
   ]
  },
  {
   "cell_type": "code",
   "execution_count": 140,
   "metadata": {},
   "outputs": [
    {
     "data": {
      "text/html": [
       "<div>\n",
       "<style scoped>\n",
       "    .dataframe tbody tr th:only-of-type {\n",
       "        vertical-align: middle;\n",
       "    }\n",
       "\n",
       "    .dataframe tbody tr th {\n",
       "        vertical-align: top;\n",
       "    }\n",
       "\n",
       "    .dataframe thead th {\n",
       "        text-align: right;\n",
       "    }\n",
       "</style>\n",
       "<table border=\"1\" class=\"dataframe\">\n",
       "  <thead>\n",
       "    <tr style=\"text-align: right;\">\n",
       "      <th>New_Status</th>\n",
       "      <th>Received_Via</th>\n",
       "      <th>Closed</th>\n",
       "      <th>Open</th>\n",
       "      <th>Total_Complaints</th>\n",
       "      <th>%_resolved_complaints</th>\n",
       "    </tr>\n",
       "  </thead>\n",
       "  <tbody>\n",
       "    <tr>\n",
       "      <th>0</th>\n",
       "      <td>Customer Care Call</td>\n",
       "      <td>864</td>\n",
       "      <td>255</td>\n",
       "      <td>1119</td>\n",
       "      <td>77.211796</td>\n",
       "    </tr>\n",
       "    <tr>\n",
       "      <th>1</th>\n",
       "      <td>Internet</td>\n",
       "      <td>843</td>\n",
       "      <td>262</td>\n",
       "      <td>1105</td>\n",
       "      <td>76.289593</td>\n",
       "    </tr>\n",
       "  </tbody>\n",
       "</table>\n",
       "</div>"
      ],
      "text/plain": [
       "New_Status        Received_Via  Closed  Open  Total_Complaints  \\\n",
       "0           Customer Care Call     864   255              1119   \n",
       "1                     Internet     843   262              1105   \n",
       "\n",
       "New_Status  %_resolved_complaints  \n",
       "0                       77.211796  \n",
       "1                       76.289593  "
      ]
     },
     "execution_count": 140,
     "metadata": {},
     "output_type": "execute_result"
    }
   ],
   "source": [
    "# calculating percentage of complaints resolved till date\n",
    "\n",
    "status_mode_of_comm[\"%_resolved_complaints\"] = (status_mode_of_comm.Closed/\n",
    "                                                status_mode_of_comm.Total_Complaints)*100\n",
    "status_mode_of_comm"
   ]
  },
  {
   "cell_type": "markdown",
   "metadata": {},
   "source": [
    "77.21 % of complaints are resolved that are received through customer care calls\n",
    "\n",
    "76.28 % of complaints are resolved that are received through internet"
   ]
  }
 ],
 "metadata": {
  "kernelspec": {
   "display_name": "Python 3",
   "language": "python",
   "name": "python3"
  },
  "language_info": {
   "codemirror_mode": {
    "name": "ipython",
    "version": 3
   },
   "file_extension": ".py",
   "mimetype": "text/x-python",
   "name": "python",
   "nbconvert_exporter": "python",
   "pygments_lexer": "ipython3",
   "version": "3.7.6"
  }
 },
 "nbformat": 4,
 "nbformat_minor": 4
}
